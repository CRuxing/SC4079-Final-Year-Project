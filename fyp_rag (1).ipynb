{
 "cells": [
  {
   "cell_type": "markdown",
   "id": "4df685c5-65f5-45d6-a1b7-ee9b388e8c70",
   "metadata": {},
   "source": [
    "# Load knowledge base"
   ]
  },
  {
   "cell_type": "code",
   "execution_count": 20,
   "id": "8830c26f-1174-4039-a0fd-380f4fa290c2",
   "metadata": {},
   "outputs": [],
   "source": [
    "# !pip install -q torch transformers accelerate bitsandbytes langchain sentence-transformers faiss-cpu openpyxl pacmap datasets langchain-community ragatouille"
   ]
  },
  {
   "cell_type": "code",
   "execution_count": 34,
   "id": "62c369d5-e703-4f53-b020-cdccfb1c5f8c",
   "metadata": {},
   "outputs": [],
   "source": [
    "# !pip install nltk"
   ]
  },
  {
   "cell_type": "code",
   "execution_count": 33,
   "id": "b39f8ba0-19e4-4229-ba1b-2e9dbb5977b7",
   "metadata": {},
   "outputs": [],
   "source": [
    "# import nltk\n",
    "# nltk.download('punkt')\n",
    "# nltk.download('punkt_tab')"
   ]
  },
  {
   "cell_type": "code",
   "execution_count": 2,
   "id": "9ad59b28-7c69-47a8-969f-8f343f083341",
   "metadata": {},
   "outputs": [],
   "source": [
    "import os\n",
    "import requests\n",
    "from tqdm import tqdm\n",
    "from sentence_transformers import SentenceTransformer\n",
    "from langchain.vectorstores import FAISS"
   ]
  },
  {
   "cell_type": "code",
   "execution_count": 3,
   "id": "218bb78b-f838-49c6-a132-424c4d2e3d29",
   "metadata": {},
   "outputs": [],
   "source": [
    "%reload_ext dotenv\n",
    "%dotenv"
   ]
  },
  {
   "cell_type": "code",
   "execution_count": 4,
   "id": "17cf9728-ee6b-4076-b1bf-f3617f398388",
   "metadata": {},
   "outputs": [],
   "source": [
    "# Configuration\n",
    "API_BASE_URL = \"https://www.courtlistener.com/api/rest/v4/\"\n",
    "API_KEY = os.getenv(\"COURTLISTENER_API_KEY\")  \n",
    "HEADERS = {\"Authorization\": f\"Token {API_KEY}\"}\n",
    "VECTOR_DIMENSION = 768  \n",
    "FAISS_INDEX_PATH = \"faiss_legal_rag_index.index\""
   ]
  },
  {
   "cell_type": "markdown",
   "id": "853a2b1a-ef40-4999-bf5a-4a2b8e4145ef",
   "metadata": {},
   "source": [
    "### No. of records"
   ]
  },
  {
   "cell_type": "code",
   "execution_count": 5,
   "id": "7ada2b79-7b88-4dcd-9bb2-e63c6231ba2a",
   "metadata": {},
   "outputs": [],
   "source": [
    "total_records = 10583546"
   ]
  },
  {
   "cell_type": "markdown",
   "id": "b660e18d-a9bc-462b-8dd9-fea22400ed0c",
   "metadata": {
    "jp-MarkdownHeadingCollapsed": true
   },
   "source": [
    "## Delete FAISS Files"
   ]
  },
  {
   "cell_type": "code",
   "execution_count": 90,
   "id": "40d4b39d-7ff7-4097-83cb-7eb959638ea0",
   "metadata": {},
   "outputs": [
    {
     "name": "stdout",
     "output_type": "stream",
     "text": [
      "FAISS index deleted!\n"
     ]
    }
   ],
   "source": [
    "# import os\n",
    "# import shutil\n",
    "# from langchain.schema import Document\n",
    "# from langchain.vectorstores import FAISS\n",
    "# from langchain_community.embeddings import HuggingFaceEmbeddings\n",
    "# from langchain_community.vectorstores.utils import DistanceStrategy\n",
    "\n",
    "# def clear_faiss():\n",
    "#     \"\"\"Delete FAISS index files to reset FAISS.\"\"\"\n",
    "#     if os.path.exists(NEW_FAISS_INDEX_PATH):\n",
    "#         shutil.rmtree(NEW_FAISS_INDEX_PATH)  # Delete the FAISS directory\n",
    "#         print(\"FAISS index deleted!\")\n",
    "\n",
    "# clear_faiss()"
   ]
  },
  {
   "cell_type": "code",
   "execution_count": 91,
   "id": "b1bc3a98-ae78-4537-bc0a-974bcb629e31",
   "metadata": {},
   "outputs": [
    {
     "name": "stdout",
     "output_type": "stream",
     "text": [
      "FAISS index is cleared (directory deleted).\n"
     ]
    }
   ],
   "source": [
    "# import os\n",
    "\n",
    "# if not os.path.exists(NEW_FAISS_INDEX_PATH):\n",
    "#     print(\"FAISS index is cleared (directory deleted).\")\n",
    "# else:\n",
    "#     print(\"FAISS index still exists.\")\n"
   ]
  },
  {
   "cell_type": "code",
   "execution_count": null,
   "id": "434d21b8-44d0-4dc7-ac96-18a61fe3900d",
   "metadata": {},
   "outputs": [],
   "source": []
  },
  {
   "cell_type": "code",
   "execution_count": 6,
   "id": "641bc3f8-eb94-4751-83ef-38dfa56da871",
   "metadata": {},
   "outputs": [
    {
     "name": "stdout",
     "output_type": "stream",
     "text": [
      "Opinions per page: 20\n"
     ]
    }
   ],
   "source": [
    "import requests\n",
    "\n",
    "# Base URL for the CourtListener opinions API\n",
    "url = \"https://www.courtlistener.com/api/rest/v4/opinions/\"\n",
    "response = requests.get(url)\n",
    "data = response.json()\n",
    "\n",
    "# Extract the total count and calculate the number of pages\n",
    "results_per_page = len(data.get(\"results\", []))\n",
    "\n",
    "print(f\"Opinions per page: {results_per_page}\")"
   ]
  },
  {
   "cell_type": "code",
   "execution_count": 7,
   "id": "bd47ec77-70af-48ed-a8ad-e5d87ba85d78",
   "metadata": {},
   "outputs": [
    {
     "name": "stdout",
     "output_type": "stream",
     "text": [
      "Total opinions: 10560824\n",
      "Opinions per page: 20\n",
      "Total pages: 528042\n"
     ]
    }
   ],
   "source": [
    "import requests\n",
    "\n",
    "# Base URL for the CourtListener opinions API\n",
    "url = \"https://www.courtlistener.com/api/rest/v4/opinions/?count=on\"\n",
    "response = requests.get(url)\n",
    "data = response.json()\n",
    "\n",
    "total_count = data.get(\"count\", 0)\n",
    "\n",
    "total_pages = (total_count // results_per_page) + (1 if total_count % results_per_page else 0)\n",
    "\n",
    "print(f\"Total opinions: {total_count}\")\n",
    "print(f\"Opinions per page: {results_per_page}\")\n",
    "print(f\"Total pages: {total_pages}\")\n"
   ]
  },
  {
   "cell_type": "markdown",
   "id": "7122d00f-c12a-4f4f-9bc8-36be4d34cc9d",
   "metadata": {},
   "source": [
    "Total opinions: 10560824  \n",
    "Opinions per page: 20  \n",
    "Total pages: 528042"
   ]
  },
  {
   "cell_type": "markdown",
   "id": "8d5101cd-7525-4083-ab96-16785e90b3d3",
   "metadata": {},
   "source": [
    "## Embedding Model"
   ]
  },
  {
   "cell_type": "markdown",
   "id": "eb94b16f-7aa0-4108-ae9b-82682d0367c1",
   "metadata": {},
   "source": [
    "### Model Information\n"
   ]
  },
  {
   "cell_type": "code",
   "execution_count": 53,
   "id": "9bb1cee1-9bad-4a11-96a1-67c6bb82d2f7",
   "metadata": {},
   "outputs": [
    {
     "name": "stderr",
     "output_type": "stream",
     "text": [
      "/home/renyang/ruxing/.local/lib/python3.10/site-packages/transformers/tokenization_utils_base.py:1601: FutureWarning: `clean_up_tokenization_spaces` was not set. It will be set to `True` by default. This behavior will be depracted in transformers v4.45, and will be then set to `False` by default. For more details check this issue: https://github.com/huggingface/transformers/issues/31884\n",
      "  warnings.warn(\n"
     ]
    },
    {
     "name": "stdout",
     "output_type": "stream",
     "text": [
      "Model loaded: SentenceTransformer(\n",
      "  (0): Transformer({'max_seq_length': 384, 'do_lower_case': False}) with Transformer model: MPNetModel \n",
      "  (1): Pooling({'word_embedding_dimension': 768, 'pooling_mode_cls_token': False, 'pooling_mode_mean_tokens': True, 'pooling_mode_max_tokens': False, 'pooling_mode_mean_sqrt_len_tokens': False, 'pooling_mode_weightedmean_tokens': False, 'pooling_mode_lasttoken': False, 'include_prompt': True})\n",
      "  (2): Normalize()\n",
      ")\n",
      "Tokenizer max sequence length: 512\n",
      "Embedding model max sequence length: 384\n"
     ]
    }
   ],
   "source": [
    "from sentence_transformers import SentenceTransformer\n",
    "\n",
    "# Load the embedding model\n",
    "embedding_model = SentenceTransformer(\"all-mpnet-base-v2\")\n",
    "\n",
    "print(f\"Model loaded: {embedding_model}\")\n",
    "\n",
    "# Check the tokenizer's max sequence length\n",
    "tokenizer = embedding_model.tokenizer\n",
    "print(\"Tokenizer max sequence length:\", tokenizer.model_max_length)  # Output: 512\n",
    "\n",
    "# Check the embedding model's max sequence length\n",
    "print(\"Embedding model max sequence length:\", embedding_model.max_seq_length)  # Output: 384"
   ]
  },
  {
   "cell_type": "markdown",
   "id": "95d9a829-9960-4757-973c-8080fa6be808",
   "metadata": {
    "jp-MarkdownHeadingCollapsed": true
   },
   "source": [
    "## Functions"
   ]
  },
  {
   "cell_type": "markdown",
   "id": "297563ac-6791-48f2-8999-2ff147217c77",
   "metadata": {},
   "source": [
    "### 1.1 Split the documents into chunks"
   ]
  },
  {
   "cell_type": "code",
   "execution_count": 7,
   "id": "dbeec131-91ca-4fee-875d-c970be6676d0",
   "metadata": {},
   "outputs": [],
   "source": [
    "# Fetch Data from CourtListener\n",
    "def fetch_data(endpoint, params=None, limit=100):\n",
    "    \"\"\"Fetch data from the CourtListener API.\"\"\"\n",
    "    results = []\n",
    "    while endpoint:\n",
    "        # print(f\"Fetching: {endpoint}\")\n",
    "        response = requests.get(endpoint, headers=HEADERS, params=params)\n",
    "        if response.status_code != 200:\n",
    "            print(f\"Error: {response.status_code} - {response.text}\")\n",
    "            break\n",
    "\n",
    "        data = response.json()\n",
    "        results.extend(data[\"results\"])\n",
    "\n",
    "        # Handle pagination\n",
    "        endpoint = data.get(\"next\")\n",
    "        if len(results) >= limit:\n",
    "            break\n",
    "\n",
    "    return results"
   ]
  },
  {
   "cell_type": "code",
   "execution_count": 8,
   "id": "94bcdfc4-217a-4b7d-b727-b32738884dc9",
   "metadata": {},
   "outputs": [],
   "source": [
    "import re\n",
    "\n",
    "def clean_text(text):\n",
    "    \"\"\"\n",
    "    Clean the main content in the following ways:\n",
    "    - Remove excessive whitespace and line breaks\n",
    "    - Preserve legal citations\n",
    "    - Handle case headers\n",
    "    - Manage footnotes \n",
    "    - Normalise punctuation\n",
    "    \"\"\"\n",
    "    \n",
    "    # Normalise line breaks and whitespace\n",
    "    text = re.sub(r'\\r\\n|\\r|\\n', ' ', text)  # Replace different line breaks with space\n",
    "    text = re.sub(r'\\s+', ' ', text).strip()  # Collapse multiple spaces into one\n",
    "\n",
    "    # Preserve legal citations (e.g., \"123 U.S. 456\"), this matches common legal citation formats\n",
    "    citation_pattern = r'(\\b\\d{1,3}\\s+[A-Z][a-zA-Z]*\\s+\\d+\\b)'\n",
    "    citations = re.findall(citation_pattern, text)\n",
    "    for citation in citations:\n",
    "        text = text.replace(citation, f'[{citation}]')\n",
    "\n",
    "    # Handle case headers and metadata, assuming headers are in uppercase and followed by a colon\n",
    "    header_pattern = r'([A-Z\\s]+:)\\s'\n",
    "    text = re.sub(header_pattern, r'\\n\\1 ', text)\n",
    "\n",
    "    # Manage footnotes and annotations\n",
    "    # Removing footnotes assuming they are enclosed in brackets or parentheses\n",
    "    text = re.sub(r'\\[\\d+\\]', '', text)  # Remove numeric footnotes like [1]\n",
    "    text = re.sub(r'\\(\\d+\\)', '', text)  # Remove numeric footnotes like (1)\n",
    "\n",
    "    # Normalize punctuation spacing\n",
    "    text = re.sub(r'\\s+([.,;:!?])', r'\\1', text)  # Remove space before punctuation\n",
    "    text = re.sub(r'([.,;:!?])([A-Za-z])', r'\\1 \\2', text)  # Ensure space after punctuation\n",
    "\n",
    "    return text"
   ]
  },
  {
   "cell_type": "code",
   "execution_count": 9,
   "id": "8a45a08d-26d2-49ff-937b-c331427d8c23",
   "metadata": {},
   "outputs": [],
   "source": [
    "from transformers import AutoTokenizer\n",
    "from nltk.tokenize import sent_tokenize\n",
    "\n",
    "# Load the tokenizer for your embedding model\n",
    "tokenizer = AutoTokenizer.from_pretrained(\"sentence-transformers/all-mpnet-base-v2\")\n",
    "\n",
    "def chunk_text_semantic(text, max_tokens=384, overlap_tokens=100):\n",
    "    \"\"\"\n",
    "    Split text into semantic chunks while respecting token limits.\n",
    "    The function prioritizes sentence-level chunking and ensures minimal token loss.\n",
    "    \"\"\"\n",
    "\n",
    "    # Clean the text\n",
    "    text = clean_text(text)\n",
    "\n",
    "    # Split text into sentences\n",
    "    sentences = sent_tokenize(text)\n",
    "\n",
    "    chunks = []\n",
    "    current_chunk = []\n",
    "    current_length = 0\n",
    "\n",
    "    for sentence in sentences:\n",
    "        # Tokenize the sentence\n",
    "        sentence_tokens = tokenizer.tokenize(sentence)\n",
    "        sentence_length = len(sentence_tokens)\n",
    "\n",
    "        # If adding this sentence exceeds the max token limit, finalize the current chunk\n",
    "        if current_length + sentence_length > max_tokens:\n",
    "            if current_chunk:\n",
    "                # Convert current chunk to string and store\n",
    "                chunk_text = tokenizer.convert_tokens_to_string(current_chunk)\n",
    "                chunks.append(chunk_text)\n",
    "\n",
    "                # Keep an overlapping portion for continuity\n",
    "                overlap_start = max(0, len(current_chunk) - overlap_tokens)\n",
    "                current_chunk = current_chunk[overlap_start:]\n",
    "                current_length = len(current_chunk)\n",
    "            \n",
    "            # If the sentence itself is longer than max_tokens, split it directly\n",
    "            if sentence_length > max_tokens:\n",
    "                for i in range(0, sentence_length, max_tokens - overlap_tokens):\n",
    "                    chunk_text = tokenizer.convert_tokens_to_string(sentence_tokens[i:i + max_tokens - overlap_tokens])\n",
    "                    chunks.append(chunk_text)\n",
    "                continue  # Skip adding this sentence again\n",
    "            \n",
    "        # Add sentence tokens to the current chunk\n",
    "        current_chunk.extend(sentence_tokens)\n",
    "        current_length += sentence_length\n",
    "\n",
    "    # Add the last chunk if it exists\n",
    "    if current_chunk:\n",
    "        chunk_text = tokenizer.convert_tokens_to_string(current_chunk)\n",
    "        chunks.append(chunk_text)\n",
    "\n",
    "    return chunks\n"
   ]
  },
  {
   "cell_type": "code",
   "execution_count": 10,
   "id": "708988fe-c45a-4c34-aca5-7377f34f80a1",
   "metadata": {},
   "outputs": [],
   "source": [
    "# Process Raw Knowledge Base\n",
    "def process_knowledge_base(raw_knowledge_base):\n",
    "    \"\"\"Process raw documents into chunks with metadata.\"\"\"\n",
    "    docs_processed = []\n",
    "    for doc in tqdm(raw_knowledge_base, desc=\"Processing documents\"):\n",
    "\n",
    "        # This is the main content\n",
    "        text = doc.get(\"plain_text\", \"\")  \n",
    "        # All other fields are extracted as metadata\n",
    "        metadata = {k: v for k, v in doc.items() if k != \"plain_text\"}  \n",
    "        \n",
    "        # Check that text is not empty\n",
    "        if not text:\n",
    "            continue\n",
    "        \n",
    "        # Chunk the main content and assign the respective metadata\n",
    "        chunks = chunk_text_semantic(text, max_tokens=384, overlap_tokens=100)\n",
    "        for i, chunk in enumerate(chunks):\n",
    "            docs_processed.append({\n",
    "                \"text\": chunk,\n",
    "                \"metadata\": {**metadata, \"chunk_id\": i}\n",
    "            })\n",
    "    return docs_processed"
   ]
  },
  {
   "cell_type": "markdown",
   "id": "0e471223-5e20-4755-a09c-9436f3c8aa60",
   "metadata": {},
   "source": [
    "### 1.2 Building the vector database"
   ]
  },
  {
   "cell_type": "code",
   "execution_count": 11,
   "id": "ca307a89-44bc-463e-8bc7-de97c9e944f3",
   "metadata": {},
   "outputs": [],
   "source": [
    "from langchain_huggingface import HuggingFaceEmbeddings"
   ]
  },
  {
   "cell_type": "code",
   "execution_count": 12,
   "id": "033aa83b-468f-4477-b182-c4aee6774a28",
   "metadata": {
    "scrolled": true
   },
   "outputs": [
    {
     "name": "stderr",
     "output_type": "stream",
     "text": [
      "/home/renyang/ruxing/.local/lib/python3.10/site-packages/pydantic/_internal/_fields.py:132: UserWarning: Field \"model_name\" in HuggingFaceInferenceAPIEmbeddings has conflict with protected namespace \"model_\".\n",
      "\n",
      "You may be able to resolve this warning by setting `model_config['protected_namespaces'] = ()`.\n",
      "  warnings.warn(\n",
      "/tmp/ipykernel_796132/2715795144.py:7: LangChainDeprecationWarning: The class `HuggingFaceEmbeddings` was deprecated in LangChain 0.2.2 and will be removed in 1.0. An updated version of the class exists in the :class:`~langchain-huggingface package and should be used instead. To use it run `pip install -U :class:`~langchain-huggingface` and import as `from :class:`~langchain_huggingface import HuggingFaceEmbeddings``.\n",
      "  embedding_model = HuggingFaceEmbeddings(model_name=\"sentence-transformers/all-mpnet-base-v2\")\n"
     ]
    }
   ],
   "source": [
    "from langchain.schema import Document\n",
    "from langchain.vectorstores import FAISS\n",
    "from langchain_community.embeddings import HuggingFaceEmbeddings\n",
    "from langchain_community.vectorstores.utils import DistanceStrategy\n",
    "import torch\n",
    "\n",
    "embedding_model = HuggingFaceEmbeddings(model_name=\"sentence-transformers/all-mpnet-base-v2\")\n",
    "\n",
    "def initialise_faiss(docs_processed, embedding_model):\n",
    "    \"\"\"\n",
    "    Initialise the FAISS index with processed documents and an embedding model.\n",
    "\n",
    "    Args:\n",
    "        docs_processed (list): List of dictionaries with 'text' and 'metadata'.\n",
    "        embedding_model (HuggingFaceEmbeddings): The embedding model to use.\n",
    "\n",
    "    Returns:\n",
    "        FAISS: A FAISS vector store with the documents indexed.\n",
    "    \"\"\"\n",
    "    # Ensure embedding_model is passed correctly\n",
    "    if not isinstance(embedding_model, HuggingFaceEmbeddings):\n",
    "        raise ValueError(\"embedding_model must be an instance of HuggingFaceEmbeddings\")\n",
    "\n",
    "    # Convert dictionaries to Document objects\n",
    "    documents = [\n",
    "        Document(page_content=doc[\"text\"], metadata=doc[\"metadata\"])\n",
    "        for doc in docs_processed\n",
    "    ]\n",
    "\n",
    "    # Create FAISS index from Document objects\n",
    "    faiss_index = FAISS.from_documents(\n",
    "        documents,\n",
    "        embedding=embedding_model,  \n",
    "        distance_strategy=DistanceStrategy.COSINE,  # Use cosine similarity\n",
    "    )\n",
    "\n",
    "    return faiss_index\n"
   ]
  },
  {
   "cell_type": "markdown",
   "id": "b095a495-cd6c-4bce-a445-244483e08d60",
   "metadata": {},
   "source": [
    "## Preliminary"
   ]
  },
  {
   "cell_type": "code",
   "execution_count": 13,
   "id": "a176a612-3655-4143-b13b-0b55e740d05c",
   "metadata": {
    "scrolled": true
   },
   "outputs": [
    {
     "name": "stdout",
     "output_type": "stream",
     "text": [
      "Loading raw knowledge base...\n"
     ]
    }
   ],
   "source": [
    "# Fetch raw knowledge base\n",
    "print(\"Loading raw knowledge base...\")\n",
    "RAW_KNOWLEDGE_BASE = fetch_data(API_BASE_URL + \"opinions/\", limit=100)"
   ]
  },
  {
   "cell_type": "code",
   "execution_count": 14,
   "id": "85e901f8-7547-41ff-bf04-2a979923318a",
   "metadata": {
    "scrolled": true
   },
   "outputs": [
    {
     "data": {
      "text/plain": [
       "28"
      ]
     },
     "execution_count": 14,
     "metadata": {},
     "output_type": "execute_result"
    }
   ],
   "source": [
    "len(RAW_KNOWLEDGE_BASE[99])"
   ]
  },
  {
   "cell_type": "code",
   "execution_count": 15,
   "id": "945ae7b9-9458-40be-9190-6e83d774a926",
   "metadata": {},
   "outputs": [
    {
     "name": "stdout",
     "output_type": "stream",
     "text": [
      "['resource_uri', 'id', 'absolute_url', 'cluster_id', 'cluster', 'author_id', 'author', 'joined_by', 'date_created', 'date_modified', 'author_str', 'per_curiam', 'joined_by_str', 'type', 'sha1', 'page_count', 'download_url', 'local_path', 'plain_text', 'html', 'html_lawbox', 'html_columbia', 'html_anon_2020', 'xml_harvard', 'html_with_citations', 'extracted_by_ocr', 'ordering_key', 'opinions_cited']\n"
     ]
    }
   ],
   "source": [
    "print(list(RAW_KNOWLEDGE_BASE[0].keys()))"
   ]
  },
  {
   "cell_type": "code",
   "execution_count": 16,
   "id": "c6712f35-659c-401b-a087-e56d596eb70c",
   "metadata": {},
   "outputs": [
    {
     "data": {
      "text/plain": [
       "'                    In the\\n              Court of Appeals\\nSixth Appellate District of Texas at Texarkana\\n\\n\\n                   No. 06-25-00039-CR\\n\\n\\n\\n          FERNANDO CALDERON, Appellant\\n\\n                            V.\\n\\n           THE STATE OF TEXAS, Appellee\\n\\n\\n\\n\\n         On Appeal from the 354th District Court\\n                  Hunt County, Texas\\n               Trial Court No. 34711CR\\n\\n\\n\\n\\n      Before Stevens, C.J., van Cleef and Rambin, JJ.\\n        Memorandum Opinion by Justice Rambin\\n\\x0c                                MEMORANDUM OPINION\\n\\n       Fernando Calderon has filed an untimely notice of appeal from the trial court’s judgment\\n\\nin this matter. We dismiss the appeal for want of jurisdiction.\\n\\n       The judgment of conviction in this matter indicates that the trial court imposed\\n\\nCalderon’s sentence on April 11, 2024, and Calderon did not file a motion for new trial, making\\n\\nhis notice of appeal due on or before May 13, 2024. See TEX. R. APP. P. 26.2. Calderon did not\\n\\nfile his notice of appeal until February 24, 2025, well beyond the May 13, 2024, deadline.\\n\\nConsequently, Calderon’s attempt to appeal his conviction in this matter was untimely.\\n\\n       The Texas Court of Criminal Appeals has expressly held that, without a timely filed\\n\\nnotice of appeal, we cannot exercise jurisdiction over an appeal. See Olivo v. State, 918 S.W.2d\\n\\n519, 522 (Tex. Crim. App. 1996); see also Slaton v. State, 981 S.W.2d 208, 209 n.3 (Tex. Crim.\\n\\nApp. 1998) (per curiam).\\n\\n       We notified Calderon by letter that his notice of appeal appeared to be untimely and that\\n\\nthe appeal was subject to dismissal for want of jurisdiction. We gave Calderon ten days to\\n\\nrespond to our letter and to demonstrate how we had jurisdiction over the appeal notwithstanding\\n\\nthe noted defect. While Calderon responded, through counsel, he did not provide a sufficient\\n\\nbasis for retaining this matter on our docket.\\n\\n\\n\\n\\n                                                 2\\n\\x0c        Because Calderon has not timely perfected his appeal, we dismiss the appeal for want of\\n\\njurisdiction.\\n\\n\\n\\n\\n                                            Jeff Rambin\\n                                            Justice\\n\\nDate Submitted:       March 18, 2025\\nDate Decided:         March 19, 2025\\n\\nDo Not Publish\\n\\n\\n\\n\\n                                               3\\n\\x0c'"
      ]
     },
     "execution_count": 16,
     "metadata": {},
     "output_type": "execute_result"
    }
   ],
   "source": [
    "RAW_KNOWLEDGE_BASE[0][\"plain_text\"]"
   ]
  },
  {
   "cell_type": "code",
   "execution_count": 33,
   "id": "21fcea99-70d1-45c2-92ee-f3ac69971f32",
   "metadata": {},
   "outputs": [
    {
     "name": "stdout",
     "output_type": "stream",
     "text": [
      "Processing knowledge base...\n"
     ]
    },
    {
     "name": "stderr",
     "output_type": "stream",
     "text": [
      "Processing documents: 100%|██████████████████| 100/100 [00:06<00:00, 16.08it/s]\n"
     ]
    }
   ],
   "source": [
    "# Process the documents\n",
    "print(\"Processing knowledge base...\")\n",
    "docs_processed = process_knowledge_base(RAW_KNOWLEDGE_BASE)"
   ]
  },
  {
   "cell_type": "code",
   "execution_count": 34,
   "id": "7f3f1e61-236b-417b-a48d-bf0d9906b096",
   "metadata": {},
   "outputs": [
    {
     "data": {
      "text/plain": [
       "1972"
      ]
     },
     "execution_count": 34,
     "metadata": {},
     "output_type": "execute_result"
    }
   ],
   "source": [
    "len(docs_processed)"
   ]
  },
  {
   "cell_type": "code",
   "execution_count": 36,
   "id": "cdc50464-2385-4a1a-a647-ecac10571bbe",
   "metadata": {},
   "outputs": [
    {
     "data": {
      "text/plain": [
       "['text', 'metadata']"
      ]
     },
     "execution_count": 36,
     "metadata": {},
     "output_type": "execute_result"
    }
   ],
   "source": [
    "list(docs_processed[0].keys())"
   ]
  },
  {
   "cell_type": "code",
   "execution_count": null,
   "id": "c94ab90a-184c-4da1-b101-0ba8318c4a6c",
   "metadata": {},
   "outputs": [],
   "source": [
    "# Ensure lengths match\n",
    "if len(embeddings) != len(metadata_list):\n",
    "    raise ValueError(\"Mismatch between embeddings and metadata length.\")"
   ]
  },
  {
   "cell_type": "code",
   "execution_count": null,
   "id": "46d40f1f-fd43-445d-b61f-7b6bbd7f3d83",
   "metadata": {},
   "outputs": [],
   "source": [
    "# Initialise FAISS and add embeddings\n",
    "print(\"Indexing embeddings...\")\n",
    "vector_store = initialise_faiss(docs_processed, EMBEDDING_MODEL_NAME) # Use this for HuggingFace FAISS\n",
    "# vector_store = initialise_faiss(embeddings, metadata_list)"
   ]
  },
  {
   "cell_type": "code",
   "execution_count": null,
   "id": "be410e01-f530-402b-a1d0-46d4c5aba481",
   "metadata": {},
   "outputs": [],
   "source": [
    "# Save FAISS index for reuse\n",
    "print(f\"Saving FAISS index to {FAISS_INDEX_PATH}...\")\n",
    "vector_store.save_local(FAISS_INDEX_PATH)\n",
    "\n",
    "print(\"FAISS index created and saved successfully.\")"
   ]
  },
  {
   "cell_type": "code",
   "execution_count": null,
   "id": "4b6b1cbc-1239-4031-99ce-412ad7273abf",
   "metadata": {},
   "outputs": [],
   "source": []
  },
  {
   "cell_type": "markdown",
   "id": "bf6fec67-7e9c-49ba-ad87-cc6bc0a4c80b",
   "metadata": {},
   "source": [
    "## Chunk Visualisation"
   ]
  },
  {
   "cell_type": "code",
   "execution_count": 48,
   "id": "956a11f9-23b6-4517-a360-5c0993443d70",
   "metadata": {},
   "outputs": [],
   "source": [
    "# !pip install seaborn"
   ]
  },
  {
   "cell_type": "code",
   "execution_count": 51,
   "id": "d0c7deab-1111-459f-a394-325a3c340a4a",
   "metadata": {},
   "outputs": [],
   "source": [
    "import matplotlib.pyplot as plt\n",
    "import seaborn as sns\n",
    "\n",
    "# Function to visualize token length distribution\n",
    "def visualize_token_lengths(raw_knowledge_base, docs_processed):\n",
    "    \"\"\"\n",
    "    Visualize token length distribution before and after chunking in separate plots.\n",
    "    \"\"\"\n",
    "    # Calculate token lengths before chunking\n",
    "    before_chunking_lengths = [len(tokenizer.tokenize(doc[\"plain_text\"])) for doc in raw_knowledge_base]\n",
    "\n",
    "    # Calculate token lengths after chunking\n",
    "    after_chunking_lengths = [len(tokenizer.tokenize(chunk[\"text\"])) for chunk in docs_processed]\n",
    "\n",
    "    # Plot the distribution before chunking\n",
    "    plt.figure(figsize=(10, 6))\n",
    "    sns.histplot(before_chunking_lengths, bins=50, color=\"skyblue\", kde=True, edgecolor=\"black\")\n",
    "    plt.title(\"Token Length Distribution (Before Chunking)\", fontsize=16, fontweight=\"bold\")\n",
    "    plt.xlabel(\"Token Length\", fontsize=14)\n",
    "    plt.ylabel(\"Frequency\", fontsize=14)\n",
    "    plt.grid(True, linestyle=\"--\", alpha=0.7)\n",
    "    plt.show()\n",
    "\n",
    "    # Plot the distribution after chunking\n",
    "    plt.figure(figsize=(10, 6))\n",
    "    sns.histplot(after_chunking_lengths, bins=50, color=\"salmon\", kde=True, edgecolor=\"black\")\n",
    "    plt.title(\"Token Length Distribution (After Chunking)\", fontsize=16, fontweight=\"bold\")\n",
    "    plt.xlabel(\"Token Length\", fontsize=14)\n",
    "    plt.ylabel(\"Frequency\", fontsize=14)\n",
    "    plt.grid(True, linestyle=\"--\", alpha=0.7)\n",
    "    plt.show()"
   ]
  },
  {
   "cell_type": "code",
   "execution_count": 52,
   "id": "4eb87b73-ff8c-4741-9cbc-7c156d1e52e7",
   "metadata": {
    "scrolled": true
   },
   "outputs": [
    {
     "data": {
      "image/png": "[encoded data removed]",
      "text/plain": [
       "<Figure size 1000x600 with 1 Axes>"
      ]
     },
     "metadata": {},
     "output_type": "display_data"
    },
    {
     "data": {
      "image/png": "[encoded data removed]",
      "text/plain": [
       "<Figure size 1000x600 with 1 Axes>"
      ]
     },
     "metadata": {},
     "output_type": "display_data"
    }
   ],
   "source": [
    "visualize_token_lengths(RAW_KNOWLEDGE_BASE, docs_processed)"
   ]
  },
  {
   "cell_type": "markdown",
   "id": "2a17272f-9718-4dc2-8718-f681439f3038",
   "metadata": {},
   "source": [
    "## New embedding"
   ]
  },
  {
   "cell_type": "code",
   "execution_count": null,
   "id": "f763b81b-371f-410e-b698-b69565b3e187",
   "metadata": {},
   "outputs": [],
   "source": []
  },
  {
   "cell_type": "markdown",
   "id": "bbfbca7a-8ed1-4c9d-8f67-b9a0b8d41767",
   "metadata": {},
   "source": [
    "## Implementation "
   ]
  },
  {
   "cell_type": "code",
   "execution_count": 1,
   "id": "6ed72cf8-6b87-4639-85b6-f092a9c413a3",
   "metadata": {},
   "outputs": [
    {
     "ename": "NameError",
     "evalue": "name 'HuggingFaceEmbeddings' is not defined",
     "output_type": "error",
     "traceback": [
      "\u001b[0;31m---------------------------------------------------------------------------\u001b[0m",
      "\u001b[0;31mNameError\u001b[0m                                 Traceback (most recent call last)",
      "Cell \u001b[0;32mIn[1], line 1\u001b[0m\n\u001b[0;32m----> 1\u001b[0m embedding_model \u001b[38;5;241m=\u001b[39m \u001b[43mHuggingFaceEmbeddings\u001b[49m(model_name\u001b[38;5;241m=\u001b[39m\u001b[38;5;124m\"\u001b[39m\u001b[38;5;124msentence-transformers/all-mpnet-base-v2\u001b[39m\u001b[38;5;124m\"\u001b[39m)\n",
      "\u001b[0;31mNameError\u001b[0m: name 'HuggingFaceEmbeddings' is not defined"
     ]
    }
   ],
   "source": [
    "embedding_model = HuggingFaceEmbeddings(model_name=\"sentence-transformers/all-mpnet-base-v2\")"
   ]
  },
  {
   "cell_type": "code",
   "execution_count": 58,
   "id": "dbabb150-d5c0-401f-8f00-109a11a1bc4b",
   "metadata": {},
   "outputs": [],
   "source": [
    "def main():\n",
    "    # Fetch raw knowledge base\n",
    "    print(\"Loading raw knowledge base...\")\n",
    "    RAW_KNOWLEDGE_BASE = fetch_data(API_BASE_URL + \"opinions/\", limit=total_records)\n",
    "\n",
    "    # Check no. of records fetched\n",
    "    print(f\"Number of records fetched: {len(RAW_KNOWLEDGE_BASE)}\")\n",
    "\n",
    "    # Process the documents\n",
    "    print(\"Processing knowledge base...\")\n",
    "    docs_processed = process_knowledge_base(RAW_KNOWLEDGE_BASE)\n",
    "\n",
    "\n",
    "    # Check number of documents processed (this includes chunking)\n",
    "    print(f\"Number of documents processed: {len(docs_processed)}\")\n",
    "\n",
    "\n",
    "    # Initialise FAISS and add embeddings\n",
    "    print(\"Indexing embeddings...\")\n",
    "    vector_store = initialise_faiss(docs_processed, embedding_model)\n",
    "\n",
    "    # Save FAISS index\n",
    "    print(f\"Saving FAISS index to {FAISS_INDEX_PATH}...\")\n",
    "    vector_store.save_local(FAISS_INDEX_PATH)\n",
    "\n",
    "    print(\"FAISS index created and saved successfully.\")"
   ]
  },
  {
   "cell_type": "code",
   "execution_count": 59,
   "id": "5cd9ea8e-263d-4a5e-9eb2-80740c63f345",
   "metadata": {
    "scrolled": true
   },
   "outputs": [
    {
     "name": "stdout",
     "output_type": "stream",
     "text": [
      "Loading raw knowledge base...\n",
      "Error: 502 - <!DOCTYPE html>\n",
      "<html lang=\"en\"><head>\n",
      "<meta http-equiv=\"content-type\" content=\"text/html; charset=UTF-8\">\n",
      "  <meta charset=\"utf-8\">\n",
      "  <meta http-equiv=\"Content-Language\" content=\"en\">\n",
      "  <meta name=\"language\" content=\"en_us\">\n",
      "  <meta name=\"viewport\" content=\"width=device-width,initial-scale=1\">\n",
      "  <link href=\"/errors_5xx/error-assets/font-awesome.css\" rel=\"stylesheet\">\n",
      "\n",
      "  <title>Yikes, something went wrong â CourtListener.com</title>\n",
      "\n",
      "  <link rel=\"stylesheet\" href=\"/errors_5xx/error-assets/bootstrap.css\" type=\"text/css\">\n",
      "  <link rel=\"stylesheet\" href=\"/errors_5xx/error-assets/override.css\" type=\"text/css\" media=\"screen, projection\">\n",
      "</head>\n",
      "\n",
      "<body class=\"\">\n",
      "<div class=\"container round-bottom\">\n",
      "  <header class=\"row\">\n",
      "    <!-- Static navbar -->\n",
      "    <div class=\"navbar navbar-default\" role=\"navigation\">\n",
      "      <div class=\"container-fluid\">\n",
      "        <div class=\"navbar-header\">\n",
      "          <a class=\"navbar-brand\" href=\"https://www.courtlistener.com/\">\n",
      "            <svg class=\"cl-full-logo\"\n",
      "                 viewBox=\"0 0 635.32 292.37\"\n",
      "                 xmlns:xlink=\"http://www.w3.org/1999/xlink\"\n",
      "                 xmlns=\"http://www.w3.org/2000/svg\">\n",
      "              <g id=\"Layer_2\" data-name=\"Layer 2\">\n",
      "                <g>\n",
      "                  <rect class=\"cls-4\" x=\"144.69\" y=\"260.05\" width=\"7.44\" height=\"26.76\"/>\n",
      "                  <rect class=\"cls-4\" x=\"69.06\" y=\"260.05\" width=\"7.44\" height=\"26.76\"/>\n",
      "                  <rect class=\"cls-4\" x=\"87.97\" y=\"260.05\" width=\"7.44\" height=\"26.76\"/>\n",
      "                  <rect class=\"cls-1\" x=\"106.88\" y=\"260.05\" width=\"7.44\" height=\"26.76\"/>\n",
      "                  <rect class=\"cls-4\" x=\"125.78\" y=\"260.05\" width=\"7.44\" height=\"26.76\"/>\n",
      "                </g>\n",
      "                <g>\n",
      "                  <g>\n",
      "                    <path class=\"cls-1\" d=\"M63.34,216.92c0-3.14.57-6.24,1.7-9.31,1.13-3.07,2.79-5.81,4.96-8.23,2.17-2.42,4.83-4.37,7.97-5.87,3.14-1.5,6.72-2.25,10.73-2.25,4.73,0,8.83,1.04,12.28,3.12,3.45,2.08,6.03,4.78,7.72,8.12l-7.68,5.29c-.68-1.45-1.5-2.67-2.46-3.66-.97-.99-2.01-1.78-3.12-2.36-1.11-.58-2.27-1-3.48-1.27-1.21-.27-2.39-.4-3.55-.4-2.51,0-4.7.51-6.56,1.52-1.86,1.02-3.41,2.33-4.64,3.95-1.23,1.62-2.16,3.46-2.79,5.51-.63,2.05-.94,4.1-.94,6.12,0,2.27.36,4.46,1.09,6.56.72,2.1,1.75,3.95,3.08,5.54,1.33,1.59,2.92,2.88,4.78,3.84,1.86.97,3.9,1.45,6.12,1.45,1.16,0,2.37-.15,3.62-.43,1.26-.29,2.45-.75,3.59-1.38,1.13-.63,2.19-1.44,3.15-2.43.97-.99,1.74-2.19,2.32-3.59l8.19,4.71c-.82,1.93-1.99,3.64-3.52,5.11-1.52,1.47-3.24,2.72-5.15,3.73-1.91,1.01-3.95,1.79-6.12,2.32-2.17.53-4.3.8-6.38.8-3.67,0-7.03-.77-10.07-2.32-3.04-1.55-5.67-3.56-7.86-6.05-2.2-2.49-3.91-5.31-5.15-8.48-1.23-3.16-1.85-6.39-1.85-9.68Z\"/>\n",
      "                    <path class=\"cls-1\" d=\"M138.14,243.38c-3.77,0-7.19-.74-10.26-2.21-3.07-1.47-5.7-3.43-7.9-5.87-2.2-2.44-3.9-5.23-5.11-8.37-1.21-3.14-1.81-6.35-1.81-9.64s.64-6.72,1.92-9.86c1.28-3.14,3.04-5.92,5.29-8.33,2.25-2.42,4.92-4.34,8.01-5.76,3.09-1.42,6.45-2.14,10.07-2.14s7.11.76,10.18,2.28c3.07,1.52,5.69,3.52,7.86,5.98,2.17,2.46,3.87,5.27,5.07,8.41,1.21,3.14,1.81,6.33,1.81,9.57,0,3.43-.63,6.7-1.88,9.82-1.26,3.12-3,5.87-5.22,8.26-2.22,2.39-4.88,4.3-7.97,5.73-3.09,1.43-6.45,2.14-10.07,2.14ZM123.21,217.29c0,2.22.34,4.37,1.01,6.45.68,2.08,1.65,3.91,2.94,5.51,1.28,1.59,2.85,2.88,4.71,3.84,1.86.97,3.97,1.45,6.34,1.45s4.55-.49,6.41-1.49c1.86-.99,3.43-2.31,4.71-3.95,1.28-1.64,2.25-3.49,2.9-5.54.65-2.05.98-4.14.98-6.27s-.35-4.37-1.05-6.45c-.7-2.08-1.69-3.91-2.97-5.51-1.28-1.59-2.85-2.86-4.71-3.8-1.86-.94-3.95-1.41-6.27-1.41s-4.57.5-6.45,1.49c-1.88.99-3.46,2.3-4.71,3.91-1.26,1.62-2.21,3.46-2.86,5.51-.65,2.05-.98,4.14-.98,6.27Z\"/>\n",
      "                    <path class=\"cls-1\" d=\"M192.71,234.54c2.37,0,4.36-.48,5.98-1.45,1.62-.97,2.92-2.22,3.91-3.77.99-1.55,1.69-3.32,2.1-5.33.41-2,.62-4.07.62-6.2v-26.24h9.93v26.24c0,3.53-.42,6.84-1.27,9.93-.85,3.09-2.17,5.8-3.99,8.12s-4.14,4.16-6.99,5.51c-2.85,1.35-6.26,2.03-10.22,2.03s-7.6-.71-10.47-2.14c-2.88-1.42-5.21-3.31-6.99-5.65-1.79-2.34-3.08-5.06-3.88-8.15-.8-3.09-1.2-6.31-1.2-9.64v-26.24h10v26.24c0,2.17.21,4.26.62,6.27.41,2.01,1.11,3.78,2.1,5.33.99,1.55,2.28,2.79,3.88,3.73s3.55,1.41,5.87,1.41Z\"/>\n",
      "                    <path class=\"cls-1\" d=\"M225.33,243.01v-51.46h22.76c2.37,0,4.55.5,6.56,1.49,2,.99,3.73,2.3,5.18,3.91,1.45,1.62,2.58,3.46,3.41,5.51.82,2.05,1.23,4.12,1.23,6.2,0,3.33-.83,6.37-2.5,9.1-1.67,2.73-3.93,4.7-6.78,5.91l11.74,19.35h-11.23l-10.51-17.25h-9.86v17.25h-10ZM235.33,217h12.54c.92,0,1.78-.22,2.57-.65.8-.43,1.49-1.03,2.07-1.78.58-.75,1.04-1.63,1.38-2.65.34-1.01.51-2.1.51-3.26s-.19-2.32-.58-3.33c-.39-1.01-.91-1.9-1.56-2.65-.65-.75-1.4-1.33-2.25-1.74-.85-.41-1.7-.62-2.57-.62h-12.1v16.67Z\"/>\n",
      "                  </g>\n",
      "                  <path class=\"cls-1\" d=\"M310.71,200.33h-16.45v42.69h-9.93v-42.69h-16.45v-8.77h42.83v8.77Z\"/>\n",
      "                  <g>\n",
      "                    <path class=\"cls-1\" d=\"M329.91,243.01v-51.46h5.07v46.96h29.72v4.49h-34.79Z\"/>\n",
      "                    <path class=\"cls-1\" d=\"M368.54,243.01v-51.46h5.07v51.46h-5.07Z\"/>\n",
      "                    <path class=\"cls-1\" d=\"M412.97,201.2c-1.45-1.64-3.38-2.97-5.8-3.99-2.42-1.01-5.17-1.52-8.26-1.52-4.54,0-7.85.86-9.93,2.57-2.08,1.72-3.12,4.05-3.12,6.99,0,1.55.28,2.82.83,3.81.55.99,1.41,1.85,2.57,2.57,1.16.73,2.65,1.35,4.46,1.88,1.81.53,3.95,1.06,6.41,1.59,2.75.58,5.23,1.23,7.43,1.96,2.2.72,4.07,1.63,5.62,2.72,1.55,1.09,2.73,2.4,3.55,3.95.82,1.55,1.23,3.48,1.23,5.8s-.46,4.42-1.38,6.16c-.92,1.74-2.2,3.19-3.84,4.35-1.64,1.16-3.6,2.02-5.87,2.57-2.27.55-4.76.83-7.46.83-7.97,0-14.86-2.49-20.66-7.46l2.54-4.13c.92.97,2.02,1.88,3.3,2.75,1.28.87,2.71,1.63,4.28,2.28,1.57.65,3.25,1.16,5.04,1.52,1.79.36,3.67.54,5.65.54,4.11,0,7.31-.74,9.6-2.21,2.29-1.47,3.44-3.71,3.44-6.7,0-1.59-.33-2.94-.98-4.02-.65-1.09-1.63-2.03-2.94-2.83-1.3-.8-2.92-1.49-4.86-2.07-1.93-.58-4.18-1.16-6.74-1.74-2.71-.63-5.07-1.28-7.1-1.96-2.03-.68-3.74-1.52-5.15-2.54-1.4-1.01-2.45-2.23-3.15-3.66-.7-1.42-1.05-3.18-1.05-5.25,0-2.37.45-4.48,1.34-6.34.89-1.86,2.16-3.41,3.81-4.64,1.64-1.23,3.58-2.17,5.8-2.83,2.22-.65,4.69-.98,7.39-.98,3.43,0,6.49.52,9.17,1.56,2.68,1.04,5.11,2.5,7.28,4.38l-2.46,4.06Z\"/>\n",
      "                    <path class=\"cls-1\" d=\"M459.79,196.05h-18.34v46.97h-5.07v-46.97h-18.34v-4.49h41.75v4.49Z\"/>\n",
      "                    <path class=\"cls-1\" d=\"M498.42,238.52v4.49h-34.57v-51.46h33.92v4.49h-28.85v18.55h25.15v4.28h-25.15v19.64h29.5Z\"/>\n",
      "                    <path class=\"cls-1\" d=\"M509.43,200.98v42.04h-5.07v-51.46h3.91l34.06,42.83v-42.76h5.07v51.39h-4.42l-33.56-42.04Z\"/>\n",
      "                    <path class=\"cls-1\" d=\"M591.26,238.52v4.49h-34.57v-51.46h33.92v4.49h-28.85v18.55h25.15v4.28h-25.15v19.64h29.5Z\"/>\n",
      "                    <path class=\"cls-1\" d=\"M597.2,243.01v-51.46h21.74c2.22,0,4.26.47,6.12,1.41,1.86.94,3.47,2.17,4.82,3.7,1.35,1.52,2.4,3.25,3.15,5.18.75,1.93,1.12,3.89,1.12,5.87s-.28,3.68-.83,5.4c-.56,1.72-1.33,3.26-2.32,4.64-.99,1.38-2.19,2.54-3.59,3.48-1.4.94-2.97,1.58-4.71,1.92l12.61,19.86h-5.73l-12.1-18.99h-15.22v18.99h-5.07ZM602.27,219.53h16.81c1.5,0,2.86-.33,4.1-.98,1.23-.65,2.28-1.53,3.15-2.65.87-1.11,1.55-2.37,2.03-3.77.48-1.4.73-2.87.73-4.42s-.28-3.03-.83-4.46c-.56-1.42-1.3-2.67-2.25-3.73-.94-1.06-2.05-1.91-3.33-2.54-1.28-.63-2.62-.94-4.02-.94h-16.38v23.48Z\"/>\n",
      "                  </g>\n",
      "                </g>\n",
      "                <g>\n",
      "                  <path class=\"cls-2\" d=\"M193.32,279.1c0,1.01-.2,1.94-.61,2.79-.41.85-.95,1.58-1.63,2.2-.68.62-1.48,1.1-2.39,1.44s-1.89.51-2.93.51h-12.73v-26.99h13c.94,0,1.79.2,2.55.61.76.41,1.41.93,1.94,1.58.53.65.94,1.38,1.24,2.2.29.82.44,1.65.44,2.49,0,1.37-.34,2.62-1.03,3.74-.68,1.13-1.63,1.97-2.85,2.53,1.55.46,2.77,1.31,3.67,2.55.9,1.24,1.35,2.69,1.35,4.33ZM175.69,261.38v9.96h9.27c.66,0,1.27-.14,1.84-.42.57-.28,1.06-.65,1.46-1.1.41-.46.72-.98.95-1.58.23-.6.34-1.22.34-1.88s-.11-1.33-.32-1.94c-.22-.61-.52-1.13-.91-1.58-.39-.44-.86-.8-1.39-1.06-.53-.27-1.12-.4-1.75-.4h-9.5ZM190.66,278.64c0-.66-.11-1.3-.34-1.92-.23-.62-.55-1.16-.97-1.63-.42-.47-.91-.85-1.48-1.14-.57-.29-1.18-.44-1.84-.44h-10.34v10.22h10.07c.68,0,1.32-.14,1.92-.42.59-.28,1.11-.65,1.56-1.12.44-.47.79-1.01,1.05-1.63.25-.62.38-1.26.38-1.92Z\"/>\n",
      "                  <path class=\"cls-2\" d=\"M200.05,259.07l8.82,14.52,8.89-14.52h2.89l-10.45,16.95v10.03h-2.66v-10.11l-10.41-16.88h2.93Z\"/>\n",
      "                </g>\n",
      "                <g>\n",
      "                  <path class=\"cls-2\" d=\"M238.36,286.05v-26.99h17.71v2.36h-15.05v9.92h12.69v2.2h-12.69v12.5h-2.66Z\"/>\n",
      "                  <path class=\"cls-2\" d=\"M263.41,286.05v-26.99h11.4c1.17,0,2.24.25,3.21.74.97.49,1.82,1.14,2.53,1.94.71.8,1.26,1.7,1.65,2.72.39,1.01.59,2.04.59,3.08s-.15,1.93-.44,2.83c-.29.9-.7,1.71-1.22,2.43-.52.72-1.15,1.33-1.88,1.82-.74.49-1.56.83-2.47,1.01l6.61,10.41h-3l-6.35-9.96h-7.98v9.96h-2.66ZM266.07,273.74h8.82c.79,0,1.5-.17,2.15-.51s1.2-.8,1.65-1.39c.46-.58.81-1.24,1.06-1.98.25-.73.38-1.51.38-2.32s-.15-1.59-.44-2.34c-.29-.75-.68-1.4-1.18-1.96-.49-.56-1.08-1-1.75-1.33-.67-.33-1.37-.49-2.11-.49h-8.59v12.31Z\"/>\n",
      "                  <path class=\"cls-2\" d=\"M309.02,283.7v2.36h-18.13v-26.99h17.79v2.36h-15.13v9.73h13.19v2.24h-13.19v10.3h15.47Z\"/>\n",
      "                  <path class=\"cls-2\" d=\"M334.82,283.7v2.36h-18.13v-26.99h17.79v2.36h-15.13v9.73h13.19v2.24h-13.19v10.3h15.47Z\"/>\n",
      "                </g>\n",
      "                <path class=\"cls-2\" d=\"M344.4,286.47c-.68,0-1.26-.22-1.75-.66-.49-.44-.74-1.05-.74-1.84,0-.67.24-1.24.7-1.72.47-.48,1.05-.72,1.74-.72s1.28.24,1.76.71c.49.48.73,1.05.73,1.73,0,.78-.24,1.39-.73,1.83-.49.44-1.06.66-1.71.66Z\"/>\n",
      "                <g>\n",
      "                  <path class=\"cls-2\" d=\"M353.01,286.05v-26.99h2.66v24.63h15.58v2.36h-18.24Z\"/>\n",
      "                  <path class=\"cls-2\" d=\"M386.19,259.07h2.24l11.21,26.99h-2.81l-3.5-8.44h-12.13l-3.46,8.44h-2.85l11.29-26.99ZM392.73,275.52l-5.44-13.34-5.51,13.34h10.95Z\"/>\n",
      "                </g>\n",
      "                <path class=\"cls-2\" d=\"M409.07,259.26h2.51l3.8,9.58,3.84-9.58h2.55l-4.71,11.52,5.17,12.2,9.77-23.91h2.89l-11.44,26.99h-2.36l-5.66-13.34-5.7,13.34h-2.32l-11.4-26.99h2.85l9.81,23.91,5.13-12.2-4.71-11.52Z\"/>\n",
      "                <path class=\"cls-1\" d=\"M108.64.25c-3.36.78-6.07,3.5-6.83,6.86-1.03,4.57,1.38,8.74,5.17,10.47v157.28h7.7V17.59c3.2-1.44,5.43-4.64,5.43-8.37,0-5.79-5.4-10.36-11.47-8.97Z\"/>\n",
      "              </g>\n",
      "               <a\n",
      "                 xlink:href=\"https://free.law/\"\n",
      "                 xlink:show=\"new\">\n",
      "                  <g id=\"Layer_4\" data-name=\"Layer 4\">\n",
      "                    <rect class=\"free-law-link\" x=\"64.43\" y=\"247.23\" width=\"399.41\" height=\"45.14\"/>\n",
      "                  </g>\n",
      "              </a>\n",
      "              <g id=\"Layer_3\" data-name=\"Layer 3\">\n",
      "                <g>\n",
      "                  <path class=\"cls-4\" d=\"M208.79,138.68h-47.85v3.95c.02,4.78,2.93,7.71,7.69,7.71,10.42-.02,20.83-.05,31.27-.07.95-.02,1.94-.05,2.86-.3,5.75-1.52,6.81-6.28,6.03-11.29Z\"/>\n",
      "                  <path class=\"cls-4\" d=\"M219.07,80c-1.73-1.76-3.88-2.63-6.44-2.63-2.77,0-5.03.85-6.79,2.59-.85.83-1.5,1.8-1.92,2.89h-57.83v92.79h7.51s0-85.29,0-85.29h29.05c0,3.35,0,6.7-.05,10.05-.02.65-.12,1.34-.32,1.94-3.44,9.72-6.91,19.42-10.3,29.12-.3.85-.67,1.13-1.52,1.11-3-.05-5.98,0-8.96.02-.99,0-1.39.39-1.39,1.27s.44,1.29,1.5,1.27c2.86,0,5.7-.07,8.57-.09,12.93-.05,25.87-.12,38.82-.16,1.18,0,1.73-.44,1.71-1.29s-.51-1.22-1.66-1.22c-2.47,0-4.92,0-7.37.05-.72.02-1.04-.21-1.32-.88-4.11-9.7-8.22-19.38-12.33-29.08-.14-.3-.21-.62-.21-.95v-11.15h16.12c.39.95.97,1.85,1.71,2.7,1.64,1.85,3.93,2.79,6.88,2.79,2.61,0,4.8-.88,6.54-2.66,1.73-1.76,2.61-3.95,2.61-6.63s-.88-4.78-2.61-6.56ZM195.93,132.35h-19.61c2.93-8.27,5.87-16.56,8.8-24.83h.25c3.51,8.22,7,16.44,10.55,24.83ZM215.26,89.72c-.79.88-1.71,1.32-2.77,1.32s-2.06-.44-2.84-1.34c-.79-.9-1.18-1.99-1.18-3.26,0-1.18.42-2.17,1.2-3,.79-.85,1.73-1.27,2.82-1.27s1.99.46,2.77,1.34c.79.9,1.18,1.94,1.18,3.14s-.39,2.19-1.18,3.07Z\"/>\n",
      "                  <path class=\"cls-4\" d=\"M62.35,159.33H14.5c0,1.43-.02,2.68,0,3.93,0,4.78,2.93,7.71,7.67,7.71,10.42-.02,20.85-.05,31.27-.07.95,0,1.94-.05,2.86-.3,5.75-1.52,6.81-6.28,6.05-11.27Z\"/>\n",
      "                  <path class=\"cls-4\" d=\"M17.94,103.65c-.44-1.22-1.13-2.33-2.08-3.3-1.76-1.76-3.9-2.63-6.47-2.63-2.75,0-5.01.85-6.77,2.59s-2.63,3.97-2.63,6.7c0,2.4.81,4.53,2.45,6.4,1.64,1.85,3.93,2.79,6.88,2.79,2.61,0,4.78-.88,6.54-2.63.72-.74,1.27-1.52,1.71-2.4h18.61c0,3.28,0,6.58-.05,9.86,0,.65-.12,1.34-.32,1.94-3.42,9.72-6.88,19.4-10.3,29.12-.3.85-.65,1.11-1.52,1.11-2.98-.05-5.98,0-8.96.02-.97,0-1.39.39-1.39,1.27.02.88.46,1.27,1.52,1.27,2.84-.02,5.7-.07,8.54-.09,12.93-.07,25.89-.12,38.82-.16,1.2-.02,1.73-.44,1.71-1.32,0-.83-.49-1.2-1.66-1.2-2.45,0-4.92-.02-7.37.05-.69,0-1.04-.21-1.32-.88-4.09-9.7-8.22-19.38-12.33-29.08-.12-.3-.21-.65-.21-.97,0-3.63,0-7.3.02-10.95h29.01v64.48h7.51s0-71.98,0-71.98H17.94ZM12.06,110.07c-.81.88-1.71,1.32-2.77,1.32s-2.06-.44-2.84-1.34c-.79-.9-1.18-1.99-1.18-3.26,0-1.15.39-2.17,1.2-3,.79-.83,1.73-1.27,2.82-1.27s1.96.46,2.77,1.34c.79.9,1.18,1.94,1.18,3.14s-.39,2.22-1.18,3.07ZM49.49,152.98h-19.61c2.93-8.27,5.87-16.56,8.8-24.83.07,0,.16,0,.25-.02,3.49,8.22,6.97,16.47,10.55,24.85Z\"/>\n",
      "                  <path class=\"cls-4\" d=\"M99.67,26.6c-1.73-1.76-3.88-2.63-6.44-2.63-2.75,0-5.01.85-6.77,2.59-1.78,1.73-2.66,3.97-2.66,6.7,0,2.4.83,4.53,2.47,6.4.83.95,1.85,1.66,3.03,2.1v133.88h7.51V41.75c1.06-.44,2.01-1.09,2.86-1.96,1.76-1.76,2.61-3.95,2.61-6.63s-.85-4.78-2.61-6.56ZM95.86,36.33c-.79.88-1.71,1.32-2.75,1.32-1.11,0-2.06-.44-2.84-1.34-.79-.9-1.18-1.99-1.18-3.26,0-1.18.39-2.17,1.18-3,.79-.85,1.73-1.27,2.84-1.27,1.04,0,1.96.46,2.75,1.34.81.9,1.2,1.94,1.2,3.14s-.39,2.19-1.2,3.07Z\"/>\n",
      "                  <path class=\"cls-4\" d=\"M137.69,48.17c-1.73-1.76-3.9-2.66-6.47-2.66-2.75,0-5.01.88-6.77,2.61-1.76,1.73-2.63,3.95-2.63,6.7,0,2.4.81,4.53,2.45,6.4.83.95,1.85,1.64,3.03,2.1v112.31h7.51V63.32c1.06-.44,2.03-1.11,2.89-1.96,1.73-1.76,2.61-3.97,2.61-6.63s-.88-4.8-2.61-6.56ZM133.88,57.9c-.79.88-1.71,1.32-2.77,1.32s-2.06-.46-2.84-1.34c-.79-.9-1.18-1.99-1.18-3.26,0-1.18.39-2.17,1.2-3,.79-.85,1.73-1.27,2.82-1.27s1.99.44,2.77,1.34c.79.9,1.18,1.94,1.18,3.14s-.39,2.19-1.18,3.07Z\"/>\n",
      "                </g>\n",
      "              </g>\n",
      "            </svg>\n",
      "          </a>\n",
      "        </div>\n",
      "      </div><!--/.container-fluid -->\n",
      "    </div><!-- navbar -->\n",
      "  </header>\n",
      "  \n",
      "  <div class=\"row content\">\n",
      "    <div class=\"col-sm-3\">&nbsp;</div>\n",
      "    <div class=\"col-sm-6 text-center\">\n",
      "        <h1 class=\"text-center\">Hmmm, something didn't work, sorry :/</h1>\n",
      "        <img src=\"/errors_5xx/error-assets/flip-fail.png\" width=\"200\" height=186\" alt=\"A funny image of our old mascot, Flip, with lightning bolts coming out of their head and smashing a computer instead of a dollar sign. On the computer is a fractal image of Flip smashing a computer, which contains Flip smashing a computer, and so forth.\"/>\n",
      "      <h3>This usually happens when we are doing maintenance or our server is overloaded.</h3>\n",
      "      <h3 class=\"v-offset-below-3\">Usually things are fixed within a few minutes.</h3>\n",
      "        <a href=\"https://bsky.app/profile/free.law\" class=\"btn btn-primary btn-lg\">Check Bluesky for Updates</a>\n",
      "        <a href=\".\" class=\"btn btn-default btn-lg\"><i class=\"fa fa-refresh\"></i>&nbsp;Refresh Page</a>\n",
      "    </div>\n",
      "    <div class=\"col-sm-3\">&nbsp;</div>\n",
      "  </div>\n",
      "</div>\n",
      "\n",
      "\n",
      "<div class=\"text-center hidden-print\" id=\"social-container\">\n",
      "  <a href=\"https://free.law/\" class=\"fa-stack fa-lg\">\n",
      "    <i class=\"fa fa-circle fa-stack-2x gray\"></i>\n",
      "    <i class=\"fa fa-link fa-stack-1x fa-inverse\"></i>\n",
      "  </a>\n",
      "  <a href=\"https://donate.free.law/np/clients/freelawproject/subscribe.jsp?subscription=9\" class=\"fa-stack fa-lg\">\n",
      "    <i class=\"fa fa-circle fa-stack-2x gray\"></i>\n",
      "    <i class=\"fa fa-newspaper-o fa-stack-1x fa-inverse\"></i>\n",
      "  </a>\n",
      "  <a href=\"https://github.com/freelawproject/courtlistener\" rel=\"noreferrer\" class=\"fa-stack fa-lg\">\n",
      "    <i class=\"fa fa-circle fa-stack-2x gray\"></i>\n",
      "    <i class=\"fa fa-github fa-stack-1x fa-inverse\"></i>\n",
      "  </a>\n",
      "</div>\n",
      "\n",
      "</body></html>\n",
      "Number of records fetched: 1900\n",
      "Processing knowledge base...\n"
     ]
    },
    {
     "name": "stderr",
     "output_type": "stream",
     "text": [
      "Processing documents:  20%|███▍             | 382/1900 [00:10<00:58, 26.06it/s]Token indices sequence length is longer than the specified maximum sequence length for this model (1269 > 512). Running this sequence through the model will result in indexing errors\n",
      "Processing documents: 100%|████████████████| 1900/1900 [00:51<00:00, 37.12it/s]\n"
     ]
    },
    {
     "name": "stdout",
     "output_type": "stream",
     "text": [
      "Number of documents processed: 30703\n",
      "Indexing embeddings...\n",
      "Saving FAISS index to faiss_legal_rag_index.index...\n",
      "FAISS index created and saved successfully.\n",
      "Execution time: 809.36 seconds\n"
     ]
    }
   ],
   "source": [
    "import time\n",
    "\n",
    "if __name__ == \"__main__\":\n",
    "    start_time = time.time()  # Record the start time\n",
    "    main()  \n",
    "    end_time = time.time()  # Record the end time\n",
    "    elapsed_time = end_time - start_time  # Calculate elapsed time\n",
    "\n",
    "    print(f\"Execution time: {elapsed_time:.2f} seconds\")\n"
   ]
  },
  {
   "cell_type": "code",
   "execution_count": 60,
   "id": "a1b54c89-f392-4bcb-b5a1-884438e6f093",
   "metadata": {},
   "outputs": [
    {
     "name": "stdout",
     "output_type": "stream",
     "text": [
      "Number of vectors in FAISS index: 30703\n"
     ]
    }
   ],
   "source": [
    "vector_store = FAISS.load_local(FAISS_INDEX_PATH, embedding_model, allow_dangerous_deserialization=True)\n",
    "print(f\"Number of vectors in FAISS index: {vector_store.index.ntotal}\")"
   ]
  },
  {
   "cell_type": "code",
   "execution_count": null,
   "id": "4e907de2-2d51-423a-905c-5343b70851ad",
   "metadata": {},
   "outputs": [],
   "source": []
  },
  {
   "cell_type": "markdown",
   "id": "090fc886-afc2-4348-9d02-b8e916a8f508",
   "metadata": {},
   "source": [
    "# Query"
   ]
  },
  {
   "cell_type": "markdown",
   "id": "aca30896-56dc-46af-9d51-0cfac972dacb",
   "metadata": {},
   "source": [
    "## Query the FAISS Index using old model"
   ]
  },
  {
   "cell_type": "code",
   "execution_count": 79,
   "id": "2feafa93-2b04-4a5a-8dc0-8ad2148de2a1",
   "metadata": {},
   "outputs": [],
   "source": [
    "import os\n",
    "os.environ[\"CUDA_VISIBLE_DEVICES\"] = \"4\"  # Change to another available GPU index"
   ]
  },
  {
   "cell_type": "code",
   "execution_count": 5,
   "id": "e293fcae-7f17-44a1-b27d-b982dfa01de6",
   "metadata": {},
   "outputs": [],
   "source": [
    "from langchain_huggingface import HuggingFaceEmbeddings"
   ]
  },
  {
   "cell_type": "code",
   "execution_count": 6,
   "id": "9d4da86a-86b4-467f-b84f-0dfd339c656f",
   "metadata": {},
   "outputs": [
    {
     "name": "stderr",
     "output_type": "stream",
     "text": [
      "/home/renyang/ruxing/.local/lib/python3.10/site-packages/transformers/tokenization_utils_base.py:1601: FutureWarning: `clean_up_tokenization_spaces` was not set. It will be set to `True` by default. This behavior will be depracted in transformers v4.45, and will be then set to `False` by default. For more details check this issue: https://github.com/huggingface/transformers/issues/31884\n",
      "  warnings.warn(\n",
      "/home/renyang/ruxing/.local/lib/python3.10/site-packages/pydantic/_internal/_fields.py:132: UserWarning: Field \"model_name\" in HuggingFaceInferenceAPIEmbeddings has conflict with protected namespace \"model_\".\n",
      "\n",
      "You may be able to resolve this warning by setting `model_config['protected_namespaces'] = ()`.\n",
      "  warnings.warn(\n"
     ]
    },
    {
     "name": "stdout",
     "output_type": "stream",
     "text": [
      "FAISS index loaded successfully!\n"
     ]
    }
   ],
   "source": [
    "embedding_model = HuggingFaceEmbeddings(model_name=\"sentence-transformers/all-mpnet-base-v2\")\n",
    "\n",
    "from langchain.vectorstores import FAISS\n",
    "from langchain_community.embeddings import HuggingFaceEmbeddings\n",
    "\n",
    "# Load the FAISS index\n",
    "vector_store = FAISS.load_local(\n",
    "    folder_path=\"faiss_legal_rag_index.index\",\n",
    "    embeddings=embedding_model,\n",
    "    allow_dangerous_deserialization=True  # Enable deserialization\n",
    ")\n",
    "\n",
    "print(\"FAISS index loaded successfully!\")"
   ]
  },
  {
   "cell_type": "code",
   "execution_count": 15,
   "id": "6f182b72-1a89-4980-8f06-c28f47990962",
   "metadata": {
    "scrolled": true
   },
   "outputs": [
    {
     "name": "stdout",
     "output_type": "stream",
     "text": [
      "Result 1:\n",
      "concern events that occurred as early as october 27, 2021, and include two arrests on november 11, 2021, and december 23, 2021. ( second am. compl. [ # 27 ], ¶ ¶ 1, 15, 25, 33, 38. ) 3 she alleges that her first arrest involved an unlawful traffic stop by defendant hawk, an unlawful search of her car by two defendant john does, and an unlawful detention, all in violation of the fourth amendment. ( second am. compl. [ # 27 ], ¶ ¶ 15, 20 – 21. ) she further alleges that, while in custody, her fifth amendment rights were violated when the police continued to question her despite invoking her right to remain silent ; her sixth amendment right to counsel was violated ; her fourteenth amendment right to due process was violated due to insufficient medical care ; and her rights under the americans with disabilities act ( “ ada ” ) were violated. ( second am. compl. [ # 27 ], ¶ ¶ 25, 28 – 31. ) as to ms. bays ’ s second arrest, which occurred on december 23, 2021, she pleads that defendant diaz “ initiated a false arrest ” in violation of her fourth amendment rights by committing perjury in his affidavit submitted to the guadalupe county judge. ( second am. compl. [ # 27 ], ¶ ¶ 33 – 34. ) she claims that as she was being taken into custody, the officers denied her multiple requests to bring her necessary medications with her. ( second am. compl. [ # 27 ], ¶ ¶ 39 – 40. ) ms. bays then alleges that during her overnight detainment, she experienced a medical emergency but was repeatedly denied medical care and denied access to her medications. ( second am. compl. [ # 27 ], ¶ ¶ 50, 53 – 56. )\n",
      "\n",
      "Result 2:\n",
      "##onstituted defendant ' s point headings to correspond to the manner in which we address the issues. 3 miranda v. arizona, 384 u. s. 436. a - 0798 - 22 2 b. the failure to have defendant acknowledge and initial each miranda right. ii. the december 8 [ ] statement must be suppressed due to the failure to deliver fresh miranda warnings as [ the ] state cannot meet its burden of proving defendant ' s waiver beyond a reasonable doubt. iii. both the suppression and new trial judges erred in denying the motion to suppress the december 7 [ ], 2016 statement due to the state ' s prosecutorial misconduct in its failure to electronically record the statement of december 7th and fail [ ure ] to videotape the december 8 [ ] statement pursuant to r [ ule ] 3 : 17 in violation of defendant ' s due process rights. iv. the december 8 [ ] statement must be suppressed due to the deprivation of defendant ' s sixth amendment right to counsel and fourteenth amendment due process right [ s ]. v. the prosecutor committed misconduct due to the improper grand jury presentation. vi. the prosecutor committed misconduct by presenting the false testimony of [ detective ] hassloch at the miranda hearing as to reading the entire miranda form to defendant. a - 0798 - 22 3 vii. the prosecutor committed misconduct in her summation. viii. the prosecutor committed misconduct by moving in bad faith to vacate defendant ' s proper guilty plea of june 25, 2019. ix. the state deprived defendant of his right to counsel by not providing a timely telephone call. x. the trial court abused its discretion in granting the state ' s fresh complaint motion as to statements made by m. w. to a. w. and at ginnie ' s house. xi.\n",
      "\n",
      "Result 3:\n",
      "[ 1 wo 2 ] 3 4 5 6 in the united states district court 7 for the district of arizona 8 9 marcus lee luster, no. cv - 22 - 00519 - tuc - rm 10 plaintiff, order 11 v. 12 county of pima, et al., 13 respondents. 14 15 plaintiff marcus lee luster brought this pro se civil rights action under 42 u. s. c. 16 § 1983, asserting fourteenth amendment violations for inadequate medical care, failure 17 to protect, and excessive force arising from events that allegedly occurred while plaintiff 18 was a pretrial detainee at the pima county adult detention center. ( doc. 1. ) the court 19 ordered defendants perko, reidy, pina, krause, and thomas to answer the complaint. 20 ( doc. 9. ) the court later temporarily stayed this action as to defendant krause under the 21 servicemembers civil relief act ( doc. 28 ), and dismissed defendant thomas for failure 22 to timely effect service ( doc. 93 ). on september 27, 2024, the court denied motions for 23 summary judgment filed by plaintiff and defendants reidy and pina. ( doc. 111. ) 24 defendants reidy and pina filed an interlocutory appeal. ( doc. 113. ) 25 the following motions are pending before the court : plaintiff ’ s motion to charge 26 defendant pina and lt. black with 18 u. s. c. § 241 conspiracy against rights ( doc. 96 ) ; 27 plaintiff ’ s motion for appointment of counsel ( doc. 99 ) ; plaintiff ’ s motion to 28 supplement ( doc. 103 ) ; plaintiff ’ s motion to compel disclosure ( doc. 106 ) ; plaintiff ’ s 1 motion for interrogatories ( doc.\n",
      "\n",
      "Result 4:\n",
      "who was the “ investigating detective ” for the hate crimes, “ maliciously ” sent officers to sit outside her home. ( second am. compl. [ # 27 ], ¶ 4. ) she pleads that, on november 11, 2021, defendant hawk initiated an unlawful traffic stop on her vehicle, which she alleges was “ based on a direct order ” from defendant diaz. ( second am. compl. [ # 27 ], ¶ ¶ 5 – 6, 21. ) she argues that defendant hawk told her that he pulled her over for a dirty license plate, but ms. bays alleges that there “ wasn ’ t a speck of dust present ” on the plate. ( second am. compl. [ # 27 ], ¶ ¶ 8, 15. ) she claims that when she pointed this fact out, defendant hawk said instead that he pulled her over because of a “ glare ” on the license plate. ( second am. compl. [ # 27 ], ¶ 9. ) ms. bays was handcuffed and arrested. ( second am. compl. [ # 27 ], ¶ ¶ 10 – 11. ) two john doe officers then searched her car and allegedly caused “ [ e ] xtensive damage ” to the vehicle. ( second am. compl. [ # 27 ], ¶ ¶ 11, 20 – 21. ) ms. bays was then transported to the guadalupe county detention center. ( second am. compl. [ # 27 ], ¶ 25. ) she pleads that she was “ unlawfully detained... for 27 days. ” ( second am. compl. [ # 27 ], ¶ 25. ) while in detention, she claims that she was shackled despite her physical disabilities making the shackles severely painful and that she suffered a stroke and heart attack. ( second am. compl.\n",
      "\n",
      "Result 5:\n",
      "of conviction entered after a jury found him guilty of first - degree aggravated sexual assault, second - degree sexual assault, and third - degree endangering the welfare of a child. the court sentenced defendant to an aggregate twenty - five - year custodial term, subject to twenty - five years of parole ineligibility under the jessica lunsford act, n. j. s. a. 2c : 14 - 2. before us, defendant raises the following arguments : 2 i. both the suppression and new trial judges erred in denying the motion to suppress the december 7 [ ], 2016 statement due to the state ' s prosecutorial misconduct in a ) the failure to read the miranda waiver portion to defendant along with the failure to have defendant acknowledge and initial each individual right ; and b ) the use of an improper miranda form in violation of defendant ' s due process rights. a. the failure to read the miranda waiver. 1 we utilize initials to protect the confidentiality of child victims of sexual assault or abuse. r. 1 : 38 - 3 ( c ). 2 we have reconstituted defendant ' s point headings to correspond to the manner in which we address the issues. 3 miranda v. arizona, 384 u. s. 436. a - 0798 - 22 2 b. the failure to have defendant acknowledge and initial each miranda right. ii. the december 8 [ ] statement must be suppressed due to the failure to deliver fresh miranda warnings as [ the ] state cannot meet its burden of proving defendant ' s waiver beyond a reasonable doubt. iii.\n",
      "\n",
      "Result 6:\n",
      ". bays was then transported to the guadalupe county detention center. ( second am. compl. [ # 27 ], ¶ 25. ) she pleads that she was “ unlawfully detained... for 27 days. ” ( second am. compl. [ # 27 ], ¶ 25. ) while in detention, she claims that she was shackled despite her physical disabilities making the shackles severely painful and that she suffered a stroke and heart attack. ( second am. compl. [ # 27 ], ¶ ¶ 25, 28. ) she also claims that she was “ deprived [ of ] legal representation ” and that, after she was mirandized and stated that she did not wish to speak with defendant diaz, he continued to question her. ( second am. compl. [ # 27 ], ¶ ¶ 25, 30. ) she was released from jail on december 4, 2021. ( second am. compl. [ # 27 ], ¶ 25. ) trust, 500 f. 3d 454, 461 n. 9 ( 5th cir. 2007 ) ( citing cinel v. connick, 15 f. 3d 1338, 1343 n. 6 ( 5th cir. 1994 ) ). approximately three weeks later, on december 23, 2021, ms. bays alleges that defendant diaz “ initiated a false arrest ” by committing perjury in an affidavit to a guadalupe county judge, who signed a warrant for her arrest for forgery. ( second am. compl. [ # 27 ], ¶ ¶ 33 – 35. ) nbpd officers were sent to her home and arrested her. ( second am. compl. [ # 27 ], ¶ 36. ) she claims that, as she was being taken into custody, the officers denied her multiple requests to bring her mediations used to treat her disabilities.\n",
      "\n",
      "Result 7:\n",
      "case : 24 - 50030 document : 68 - 1 page : 1 date filed : 03 / 03 / 2025 united states court of appeals for the fifth circuit _ _ _ _ _ _ _ _ _ _ _ _ united states court of appeals fifth circuit no. 24 - 50030 filed march 3, 2025 _ _ _ _ _ _ _ _ _ _ _ _ lyle w. cayce united states of america, clerk plaintiff — appellee, versus nikky nicole lujan, defendant — appellant. _ _ _ _ _ _ _ _ _ _ _ _ _ _ _ _ _ _ _ _ _ _ _ _ _ _ _ _ _ _ appeal from the united states district court for the western district of texas usdc no. 7 : 23 - cr - 98 - 1 _ _ _ _ _ _ _ _ _ _ _ _ _ _ _ _ _ _ _ _ _ _ _ _ _ _ _ _ _ _ before king, ho, and ramirez, circuit judges. * per curiam : * * appellant - defendant nikky nicole lujan was pulled over for a traffic stop, detained for an additional seven minutes to allow for a k - 9 unit to arrive, and then arrested after the k - 9 alerted to narcotics and a subsequent search revealed methamphetamine and cash. after her motion to suppress the evidence was denied, she entered a conditional guilty plea. on appeal, she _ _ _ _ _ _ _ _ _ _ _ _ _ _ _ _ _ _ _ _ _ * judge ho concurs in the judgment only. * * this opinion is not designated for publication. see 5th cir. r. 47. 5. case : 24 - 50030 document : 68 - 1 page : 2 date filed : 03 / 03 / 2025 no.\n",
      "\n",
      "Result 8:\n",
      "case : 24 - 40300 document : 54 - 1 page : 1 date filed : 02 / 28 / 2025 united states court of appeals for the fifth circuit _ _ _ _ _ _ _ _ _ _ _ _ united states court of appeals fifth circuit no. 24 - 40300 _ _ _ _ _ _ _ _ _ _ _ _ filed february 28, 2025 christy g. evans, lyle w. cayce clerk plaintiff — appellant, versus united states of america ; lisa greenway ; carrie gilliam ; juan de la garza ; bryant smith ; officer hurtt, defendants — appellees. _ _ _ _ _ _ _ _ _ _ _ _ _ _ _ _ _ _ _ _ _ _ _ _ _ _ _ _ _ _ appeal from the united states district court for the eastern district of texas usdc no. 4 : 22 - cv - 715 _ _ _ _ _ _ _ _ _ _ _ _ _ _ _ _ _ _ _ _ _ _ _ _ _ _ _ _ _ _ before richman, willett, and douglas, circuit judges. per curiam : * nursing assistant christy evans filed this lawsuit alleging malicious prosecution, false imprisonment, and violation of her constitutional rights under the federal tort claims act and bivens. she claims that she was arrested and faced adverse employment action based on administrative and criminal allegations against her that proved to be unsubstantiated. the _ _ _ _ _ _ _ _ _ _ _ _ _ _ _ _ _ _ _ _ _ * this opinion is not designated for publication. see 5th cir. r. 47. 5. case : 24 - 40300 document : 54 - 1 page : 2 date filed : 02 / 28 / 2025 no. 24 - 40300 district court dismissed her claims for lack of subject - matter jurisdiction.\n",
      "\n",
      "Result 9:\n",
      "fourth court of appeals san antonio, texas opinion no. 04 - 24 - 00290 - cr ex parte guadalupe contreras from the 379th judicial district court, bexar county, texas trial court no. 2023cr4792 honorable ron rangel, judge presiding opinion by : adrian a. spears ii, justice sitting : irene rios, justice adrian a. spears ii, justice h. todd mccray, justice delivered and filed : february 26, 2025 affirmed guadalupe contreras is presently charged by indictment with murder. on june 26, 2023, his first trial ended with the trial court granting his motion for mistrial. contreras then filed an application for writ of habeas corpus, alleging that double jeopardy barred further prosecution. after an evidentiary hearing on the merits, the trial court denied contreras ’ s requested relief. contreras then filed this appeal, arguing that the trial court erred in denying his requested relief. we affirm. background contreras was indicted for the murder of his estranged wife, elizabeth contreras. at trial, there was evidence that on august 2, 2017, elizabeth told her ex - husband and father of her 04 - 24 - 00290 - cr daughter, joe munoz, that she was going to one of her jobs to check her work schedule. she never returned, and her body was found five days later in a tree - lined area in a state of decomposition. during cross - examination, forensic analyst robert sailors testified about a forensic dna report in which he reviewed fingernail clippings. defense counsel complained that he had not been given the report by the prosecution.\n",
      "\n",
      "Result 10:\n",
      ". j. at 532. this includes the interpretation of the court rules. state v. tate, 220 n. j. 393, 405 ; state v. anthony, 443 n. j. super. 553, 564 ( app. div. 2016 ). it also includes the court ' s conclusions as to the validity of a defendant ' s waiver of the right against self - incrimination, and the voluntariness of a defendant ' s statement. arizona v. fulminante, 499 u. s. 279, 287 ; miller v. fenton, 11 in his motion for a new trial, defendant argued it was error for the court to have admitted his statements to the police. the court rejected defendant ' s arguments, finding no basis to disagree with the reasoning of the judge who decided the pretrial motion, and denied the motion for a new trial. a - 0798 - 22 69 474 u. s. 104, 110 ; state v. o. d. a. - c., 250 n. j. 408, 425. issues not raised before the trial court are reviewed for plain error, that is, error clearly capable of producing an unjust result. r. 2 : 10 - 2. applying the aforementioned standards of review to the issues defendant raises in points i and iii, we conclude the court properly denied defendant ' s motion to suppress his statements on december 7 and 8, 2016 on the basis of any alleged miranda violations and failures to record the interview. 12 a. as noted, in point i, defendant contends his december 7, 2016 statement should have been suppressed because the police gave inadequate miranda warnings, failed to read the waiver portion of the miranda form to defendant, and failed to have him acknowledge and initial each individual right on the miranda form. we are unpersuaded.\n",
      "\n"
     ]
    }
   ],
   "source": [
    "query = \"Find cases similar to Miranda v. Arizona, 384 U.S. 436 (1966).\"\n",
    "\n",
    "top_results = vector_store.similarity_search(query, k=10)  \n",
    "for i, result in enumerate(top_results):\n",
    "    print(f\"Result {i + 1}:\\n{result.page_content}\\n\")"
   ]
  },
  {
   "cell_type": "code",
   "execution_count": 56,
   "id": "7bd0d7fd-ae53-447f-beb9-5afd1f5c3685",
   "metadata": {
    "scrolled": true
   },
   "outputs": [
    {
     "name": "stdout",
     "output_type": "stream",
     "text": [
      "Result 1:\n",
      "usca4 appeal : 23 - 4378 doc : 55 filed : 02 / 27 / 2025 pg : 1 of 20 published united states court of appeals for the fourth circuit no. 23 - 4377 united states of america, plaintiff – appellee, v. rhonda notgrass, defendant – appellant. no. 23 - 4378 united states of america, plaintiff – appellee, v. robert notgrass, defendant – appellant. appeals from the united states district court for the southern district of west virginia, at charleston. irene c. berger, district judge. ( 2 : 23 - cr - 00016 - 1 ; 2 : 23 - cr - 00017 - 1 ) argued : september 24, 2024 decided : february 27, 2025 before king and richardson, circuit judges, and william l. osteen, jr., united states district judge for the middle district of north carolina, sitting by designation. usca4 appeal : 23 - 4378 doc : 55 filed : 02 / 27 / 2025 pg : 2 of 20 affirmed by published opinion. judge richardson wrote the opinion, in which judge king and judge osteen joined. argued : jonathan d. byrne, office of the federal public defender, charleston, west virginia, for appellants. alexander allen redmon, office of the united states attorney, charleston, west virginia, for appellee. on brief : wesley p. page, federal public defender, emily l. szopinski, assistant federal public defender, office of the federal public defender, charleston, west virginia ; natalie atkinson, thomas combs & spann pllc, charleston, west virginia, for appellants. william s. thompson, united states attorney, office of the united states attorney, charleston, west virginia, for appellee.\n",
      "\n",
      "Result 2:\n",
      "usca4 appeal : 23 - 4377 doc : 57 filed : 02 / 27 / 2025 pg : 1 of 20 published united states court of appeals for the fourth circuit no. 23 - 4377 united states of america, plaintiff – appellee, v. rhonda notgrass, defendant – appellant. no. 23 - 4378 united states of america, plaintiff – appellee, v. robert notgrass, defendant – appellant. appeals from the united states district court for the southern district of west virginia, at charleston. irene c. berger, district judge. ( 2 : 23 - cr - 00016 - 1 ; 2 : 23 - cr - 00017 - 1 ) argued : september 24, 2024 decided : february 27, 2025 before king and richardson, circuit judges, and william l. osteen, jr., united states district judge for the middle district of north carolina, sitting by designation. usca4 appeal : 23 - 4377 doc : 57 filed : 02 / 27 / 2025 pg : 2 of 20 affirmed by published opinion. judge richardson wrote the opinion, in which judge king and judge osteen joined. argued : jonathan d. byrne, office of the federal public defender, charleston, west virginia, for appellants. alexander allen redmon, office of the united states attorney, charleston, west virginia, for appellee. on brief : wesley p. page, federal public defender, emily l. szopinski, assistant federal public defender, office of the federal public defender, charleston, west virginia ; natalie atkinson, thomas combs & spann pllc, charleston, west virginia, for appellants. william s. thompson, united states attorney, office of the united states attorney, charleston, west virginia, for appellee.\n",
      "\n",
      "Result 3:\n",
      "recommended for publication pursuant to sixth circuit i. o. p. 32. 1 ( b ) file name : 25a0043p. 06 united states court of appeals for the sixth circuit [UNK] united states of america, │ plaintiff - appellee, │ > no. 22 - 5603 │ v. │ │ calvin cogdill, │ defendant - appellant. │ [UNK] on remand from the united states supreme court united states district court for the eastern district of tennessee at chattanooga. no. 1 : 20 - cr - 00087 - 1 — curtis l. collier, district judge. argued : october 2, 2024 decided and filed : march 3, 2025 before : clay, griffin, and davis, circuit judges. _ _ _ _ _ _ _ _ _ _ _ _ _ _ _ _ _ counsel argued : jennifer niles coffin, federal defender services of eastern tennessee, inc., knoxville, tennessee, for appellant. luke a. mclaurin, united states attorney ’ s office, knoxville, tennessee, for appellee. on supplemental brief : jennifer niles coffin, federal defender services of eastern tennessee, inc., knoxville, tennessee, for appellant. luke a. mclaurin, united states attorney ’ s office, knoxville, tennessee, for appellee. griffin, j., delivered the opinion of the court in which davis, j., concurred. clay, j. ( pp. 12 – 26 ), delivered a separate dissenting opinion. no. 22 - 5603 united states v. cogdill page 2 _ _ _ _ _ _ _ _ _ _ _ _ _ _ _ _ _ opinion _ _ _ _ _ _ _ _ _ _ _ _ _ _ _ _ _ griffin, circuit judge.\n",
      "\n",
      "Result 4:\n",
      "............................................................................. 20 holy cross church of god in christ v. wolf, 44 s. w. 3d 562 ( tex. 2001 )............................................................................... 13 hooks v. fourth ct. of appeals, 808 s. w. 2d 56 ( tex. 1991 )............................................................................... 25 in re kappmeyer, 668 s. w. 3d 651 ( tex.\n",
      "\n",
      "Result 5:\n",
      "by the circuit court of appeals. snyder v. ridenour, 889 f. 2d 1363 ( 4th cir. 1989 ) ; thomas v. arn, 474 u. s. 140, 106 s. ct. 466, 88 l. ed. 2d 435 ; wright v. collins, 766 f. 2d 841 ( 4th cir. 1985 ) ; united states v. 5 schronce, 727 f. 2d 91 ( 4th cir. 1984 ), cert. denied, 467 u. s. 1208, 104 s. ct. 2395, 81 l. ed. 2d 352. copies of such objections shall be served on opposing parties, district judge chambers, and this magistrate judge. the clerk is requested to send a copy of this proposed findings and recommendation to petitioner, who is acting pro se. entered : february 3, 2025. pres distr, s 2 dhe | 9 ) s resp 3 s et gl bh yan wh = - 2 hh : § omar j. aboulhosn 7 ) 7s united states magistrate judge srerer of\n",
      "\n",
      "Result 6:\n",
      "usca4 appeal : 23 - 4249 doc : 60 filed : 02 / 26 / 2025 pg : 1 of 18 published united states court of appeals for the fourth circuit no. 23 - 4249 united states of america, plaintiff – appellee, v. jarohn parham, defendant – appellant. appeal from the united states district court for the eastern district of virginia, at newport news. raymond a. jackson, senior district judge. ( 4 : 21 - cr - 00075 - raj - lrl - 1 ) argued : march 22, 2024 decided : february 26, 2025 before niemeyer, king, and benjamin, circuit judges. reversed, vacated and remanded with instructions by published opinion. judge benjamin wrote the opinion, in which judge niemeyer and judge king joined. argued : geremy c. kamens, office of the federal public defender, alexandria, virginia, for appellant. daniel j. honold, office of the united states attorney, alexandria, virginia, for appellee. on brief : patrick l. bryant, assistant federal public defender, alexandria, virginia, kirsten r. kmet, assistant federal public defender, office of the federal public defender, norfolk, virginia, for appellant. jessica d. aber, united states attorney, richmond, virginia, peter g. osyf, assistant united states attorney, office of the united usca4 appeal : 23 - 4249 doc : 60 filed : 02 / 26 / 2025 pg : 2 of 18 states attorney, alexandria, virginia, for appellee.\n",
      "\n",
      "Result 7:\n",
      ", ¶ 9, 215 p. 3d 1054, 1058 ( wyo. 2009 ) ). “ whether an injunction will be issued depends on a weighing of the equities. ” id. at ¶ 27, 539 p. 3d at 85 ( citing bd. of cnty. comm ’ rs of teton cnty. v. crow, 2006 wy 45, ¶ 16, 131 p. 3d 988, 994 ( wyo. 2006 ) ). factors the district court should consider when weighing the equities include the gravity and willfulness of a violation, the delay in asserting one ’ s rights, and the discrepancy between the costs and benefits of an injunction. id. ( citing 42 am. jur. 2d injunctions § 15 ( may 2023 update ) ). we review the district court ’ s decision to grant injunctive relief for abuse of discretion. olsen v. kilpatrick, 2007 wy 103, ¶ 9, 161 p. 3d 504, 507 ( wyo. 2007 ). “ judicial discretion is a composite of many things, among which are conclusions drawn from objective criteria ; it means exercising sound judgment with regard to what is right under the circumstances and without doing so arbitrarily or capriciously. ” winney ii, ¶ 14, 539 p. 3d at 82 ( quoting evans v. sharpe, 2023 wy 55, ¶ 25, 530 p. 3d 298, 307 ( wyo. 2023 ) ). “ a district court does not abuse its discretion if it could reasonably conclude as it did. ” id. ( quoting evans, ¶ 26, 530 p. 3d at 307 ). a. the gravity and willfulness of the violation [ ¶ 50 ] the district court found the gravity of the schroths ’ violation was serious.\n",
      "\n",
      "Result 8:\n",
      "the plaintiff ’ s position. iii. conclusion for the reasons set forth above, plaintiff ’ s motion for order reversing the decision of the commissioner ( ecf no. 14 ) is hereby denied, and defendant ’ s motion for an order affirming the decision of the commissioner ( ecf no. 15 ) is hereby granted. the clerk shall enter judgment accordingly and close this case. it is so ordered. dated this 28th day of february 2025, at hartford, connecticut. _ _ / s / awt _ _ _ _ _ alvin w. thompson united states district judge\n",
      "\n",
      "Result 9:\n",
      ", 2025 before diaz, chief judge, and wynn and thacker, circuit judges. affirmed in part, reversed in part, and remanded by published opinion. judge wynn wrote the opinion, in which chief judge diaz and judge thacker joined. usca4 appeal : 24 - 1043 doc : 55 filed : 02 / 26 / 2025 pg : 2 of 32 argued : samuel robert simkins, akeel & valentine, plc, troy, michigan, for appellants. kolya david glick, arnold & porter kaye scholer llp, washington, d. c. ; raymond a. cardozo, reed smith llp, san francisco, california, for appellee. on brief : shereef h. akeel, adam s. akeel, daniel w. cermak, hayden pendergrass, akeel & valentine, plc, troy, michigan ; john w. cleary, msp recovery law firm, coral gables, florida ; david hilton wise, william n. evans, wise law firm, plc, fairfax, virginia, for appellants. thomas h. suddath, jr., philadelphia, pennsylvania, douglas e. pittman, reed smith llp, richmond, virginia ; joshua m. davis, washington, d. c., suneeta hazra, brian williams, denver, colorado, nicole l. masiello, laurel m. ruza, aidan mulry, arnold & porter kaye scholer llp, new york, new york, for appellees.\n",
      "\n",
      "Result 10:\n",
      "00051 - cv with cause number 03 - 24 - 00130 - cv for all purposes. the issues, records, and documents filed in cause number 03 - 25 - 00051 - cv are consolidated into cause number 03 - 24 - 00130 - cv. the consolidated appeal shall proceed under appeal number 03 - 24 - 00130 - cv and cause number 03 - 25 - 00051 - cv is hereby dismissed. see tex. r. app. p. 42. 1 ( a ). _ _ _ _ _ _ _ _ _ _ _ _ _ _ _ _ _ _ _ _ _ _ _ _ _ _ _ _ _ _ _ _ _ _ _ _ _ _ _ _ _ _ rosa lopez theofanis, justice before justices theofanis, crump, and ellis no. 03 - 24 - 00130 - cv consolidated no. 03 - 25 - 00051 - cv dismissed filed : february 26, 2025 2\n",
      "\n"
     ]
    }
   ],
   "source": [
    "query = \"Find decisions similar to Gideon v. Wainwright, 372 U.S. 335 (1963).\"\n",
    "\n",
    "top_results = vector_store.similarity_search(query, k=10)  \n",
    "for i, result in enumerate(top_results):\n",
    "    print(f\"Result {i + 1}:\\n{result.page_content}\\n\")"
   ]
  },
  {
   "cell_type": "code",
   "execution_count": 57,
   "id": "11c06e5c-b058-4516-90bd-45c8b8ab5934",
   "metadata": {
    "scrolled": true
   },
   "outputs": [
    {
     "name": "stdout",
     "output_type": "stream",
     "text": [
      "Result 1:\n",
      "., green - doyle v. dep ’ t of homeland sec., 817 f. app ’ x 983, 986 ( fed. cir. 2020 ) ( finding plaintiff had presented a “ mixed case ” when she claimed that she had been fired in retaliation for contacting the eeoc and dismissing appeal for lack of jurisdiction ) ; diggs v. dep ’ t of hous. & urban dev., 670 f. 3d 1353, 1358 ( fed. cir. 2011 ) ( stating that “ affirmative defenses of reprisal for prior eeo activity are assertion [ s ] of discrimination under title vii and within the meaning of 5 u. s. c. § 7702, ” which deprive the federal circuit of jurisdiction ) ; see also docket sheet [ # 1 - 3 ] at 171 ( federal circuit order explaining that “ ‘ [ c ] ases of discrimination, ’ where the petitioner appealed an adverse action to the board and raised a claim of covered discrimination, including retaliation,... belong in district court ” ). 2. law of the case the “ law of the case ” doctrine states that, “ when a court decides upon a rule of law, that decision should continue to govern the same issues in subsequent stages in the same case. ” arizona v. california, 460 u. s. 605, 618. this is meant to promote finality and judicial efficiency by “ protecting against the agitation of settled issues. ” christianson v. colt indus. operating corp., 486 u. s. 800, 816 ( quoting 1b j. moore et al., moore ’ s federal practice ¶ 0. 404, p. 118 ).\n",
      "\n",
      "Result 2:\n",
      ". osborn v. kemp, 991 a. 2d 1153, 1160 ( del. 2010 ) ) ( internal quotation marks omitted ). 64 benchmark invs. llc, 2024 wl 3567367 at * 6 ( quoting osborn ex rel. osborn, 991 a. 2d at 1160 ). 65 kuhn const., inc. v. diamond state port corp., 990 a. 2d 393, 396 – 97 ( del. 2010 ) ( citing energy p ’ rs, ltd. v. stone energy corp., 2006 wl 2947483, at * 13 ( del. ch. oct 11, 2006 ) ). 66 terrell v. kiromic biopharma, inc., 2024 wl 370040, at * 7 ( del. ch. jan. 31, 2024 ) rev ’ d on other grounds, 2025 wl 249073 ( del. jan. 21, 2025 ) ( quoting antonin scalia & bryan a. garner, reading law : the interpretation of legal texts 170 - 73 ). 12 iv.\n",
      "\n",
      "Result 3:\n",
      "by the circuit court of appeals. snyder v. ridenour, 889 f. 2d 1363 ( 4th cir. 1989 ) ; thomas v. arn, 474 u. s. 140, 106 s. ct. 466, 88 l. ed. 2d 435 ; wright v. collins, 766 f. 2d 841 ( 4th cir. 1985 ) ; united states v. 5 schronce, 727 f. 2d 91 ( 4th cir. 1984 ), cert. denied, 467 u. s. 1208, 104 s. ct. 2395, 81 l. ed. 2d 352. copies of such objections shall be served on opposing parties, district judge chambers, and this magistrate judge. the clerk is requested to send a copy of this proposed findings and recommendation to petitioner, who is acting pro se. entered : february 3, 2025. pres distr, s 2 dhe | 9 ) s resp 3 s et gl bh yan wh = - 2 hh : § omar j. aboulhosn 7 ) 7s united states magistrate judge srerer of\n",
      "\n",
      "Result 4:\n",
      "..... 43 retzlaff v. tex. dep ’ t of crim. justice, 135 s. w. 3d 731 ( tex. app. — houston [ 1st dist. ] 2003, no pet. )...................... 41 scott v. huntsville indep. sch. dist., 487 s. w. 2d 692 ( tex. 1972 ).............................................................................. 25 seureau v. exxonmobil corp., 274 s. w. 3d 206 ( tex. app. — houston [ 14th dist. ] 2008, no pet. )................... 48 sharyland water supply corp. v. city of alton, 354 s. w. 3d 407 ( tex.\n",
      "\n",
      "Result 5:\n",
      "##7 ( 11th cir. 2009 ). 26 trump v. cable news network, inc., 2023 wl 8433599, at * 1 ( s. d. fla. 2023 ) ( quoting holland v. florida, 2007 wl 9705926, at * 1 ( s. d. fla. 2007 ) ) ; see also williams v. cruise ships catering & serv. int ’ l, n. v., 320 f. supp. 2d 1347, 1358 ( s. d. fla. 2004 ) ( “ reconsideration of a previous order is ‘ an extraordinary remedy, to be employed sparingly. ’ ” ) ( quoting mannings v. school board of hillsborough county, 149 f. r. d. 235, 235 ( m. d. fla. 1993 ) ). 27 ecf no. 46, at ¶ 7. 28 s. e. c. v. simmons, 241 fed. app ’ x 660, 663 ( 11th cir. 2007 ) ( citing solaroll shade & shutter corp., inc. v. bio - energy systems, inc., 803 f. 2d 1130, 1133 ( 11th cir. 1986 ) ).\n",
      "\n",
      "Result 6:\n",
      "not recommended for publication file name : 25a0121n. 06 case no. 24 - 3802 united states court of appeals for the sixth circuit filed mar 03, 2025 grande voiture d ’ ohio la societe des ) kelly l. stephens, clerk ) 40 hommes et 8 chevaux, ) plaintiff - appellee, ) on appeal from the ) united states district v. ) court for the southern ) district of ohio charles j. simpson, ) defendant - appellant. ) opinion ) before : griffin, nalbandian, and mathis, circuit judges nalbandian, circuit judge. charles simpson was sued in state court and tried to remove the case to federal court. the district court remanded it. we affirm. the plaintiff in this case ( grande voiture d ’ ohio la societe des 40 hommes et 8 chevaux ) is an ohio veterans ’ organization with a messy history of litigation against simpson, who was expelled from its membership. see grande voiture d ’ ohio la societe des 40 hommes et 8 chevaux v. montgomery cnty. voiture no. 34 la societe des 40 hommes et 8 chevaux, no. 23 - 3883, 2024 wl 4719185, at * 1 ( 6th cir. july 3, 2024 ) ( order ). in the latest episode, grande voiture sued simpson in ohio state court to collect on a $ 108, 012. 50 judgment he owed from a previous suit. simpson then removed the case to federal district court, even though the complaint did not meet the requirements for federal - question jurisdiction or diversity jurisdiction. the district court remanded it to state court, and simpson appealed. no.\n",
      "\n",
      "Result 7:\n",
      "; drake v. united states, 792 f. app ’ x 916, 920 n. 6 ( fed. cir. 2019 ) ( seventh amendment ) ; leblanc v. united states, 50 f. 3d 1025, 1028 ( fed. cir. 1995 ) ( due process and equal protection clauses ) ; mccullough v. united states, 76 fed. cl. 1, 4 ( same ) ; wall v. united states, 141 fed. cl. 585, 598 ( privileges or immunities clause ). other claims mentioned in the complaint that are outside this court ’ s jurisdiction involve civil torts, see 28 u. s. c. § 1491 ( a ), criminal violations, see marcum v. united states, 173 fed. cl. 168, 170, first amendment retaliation, see united states v. connolly, 716 f. 2d 882, 887 ( fed. cir. 1983 ), 42 u. s. c. § 1986, see stephens v. united states, no. 10 - 571c, 2011 wl 222118, at * 3 ( fed. cl. jan. 21, 2011 ) ; and the americans with disabilities act and its implementing regulations, see allen v. united states, 546 f. app ’ x 949, 951 ( fed. cir. 2013 ). plaintiff ’ s opposition to the motion to dismiss mentions a variety of other statutes that are also outside this court ’ s purview. see liberty ammunition, inc. v. united states, 101 fed. cl. 581, 591 ( lanham act ) ; willis v. united states, 96 fed. cl. 467, 470 ( 42 u. s. c. § 1985 ) ; ( 18 u. s. c. § 241 ).\n",
      "\n",
      "Result 8:\n",
      "e. g., nowell 15 v. nowell, 384 f. 2d 951 ( 5th cir. 1967 ), cert. denied, 390 u. s. 956, 88 s. ct. 1053, 16 19 l. ed. 2d 1150 ; karlsson v. rabinowitz, 318 f. 2d 666 ( 4th cir. 1963 ) ; 17 rovinski v. rowe, 131 f. 2d 687 ( 6th cir. 1942 ) ; insurance co. of north america v. 18 s / s \" hellenic challenger \", 88 f. r. d. 545 ( s. d. n. y. 1980 ) ; nichols v. surgitool, 19 inc., 419 f. supp. 58 ( w. d. n. y. 1976 ) ; blackhawk heating plumbing co. v. turner, 20 50 f. r. d. 144 ( d. ariz. 1970 ) ; adams dairy co. v. national dairy products corp., 21 293 f. supp. 1164 ( w. d. mo. 1968 ) ; hysell v. murray, 28 f. r. d. 584 ( d. iowa 22 1961 ) ; frasca v. eubank, 24 f. r. d. 268 ( e. d. pa. 1959 ) ; james v. russell f. davis, 23 inc., 163 f. supp. 253 ( n. d. ind. 1958 ) ; blane v. young, 10 f. r. d. 109 ( n. d. ohio 24 1950 ) ; leigh v. lynton, 9 f. r. d. 28 ( e. d. n. y.\n",
      "\n",
      "Result 9:\n",
      "_ _ _ _ _ _ _ _ _ _ _ _ _ _ _ _ _ _ _ _ _ _ _ _ _ _ _ _ _ _ _ _ _ _ _ _ _ counsel : jonathan e. demson, under appointment by the supreme court, for defendant and appellant. galit lipa, state public defender, and elias batchelder, deputy state public defender, for the office of the state public defender as amicus curiae on behalf of defendant and appellant. rob bonta, attorney general, lance e. winters, chief assistant attorney general, susan sullivan pithey, assistant attorney general, michael r. johnsen, idan ivri, charles s. lee, kathy s. pomerantz and amanda v. lopez, deputy attorneys general, for plaintiff and respondent. counsel who argued in supreme court ( not intended for publication with opinion ) : jonathan e. demson attorney at law 2632 wilshire boulevard # 291 santa monica, ca 90403 405 - 0332 amanda v. lopez deputy attorney general 300 south spring street, suite 1702 los angeles, ca 90013 269 - 6118\n",
      "\n",
      "Result 10:\n",
      "- 2910 [ lap ] [ s. d. n. y. sep. 19, 2017 ] ), she also dismissed claims against defendant florence edelstein on the grounds of res judicata since virtually identical claims had been raised in earlier actions. to the extent plaintiff had pleaded state law claims, judge preska declined to exercise supplemental jurisdiction over the same. moreover, in her 2017 decision, judge preska found : 2015 ) ; kraemer v. edelstein, no. 15 - cv - 9839 ( lap ), 2016 u. s. dist. lexis 190266 ( s. d. n. y. jan. 26, 2016 ) ; kraemer v. edelstein et al., no. l 7 - cv - 2910 [ lap ], 2017 us dist lexis 153504 [ s. d. n. y. sep. 19, 2017 ] ) ; kraemer v edelstein, 18 - cv - 9804 [ lap ], 2018 u. s. dist. lexis 185006 [ sdny october 25, 2018 ] ) ; kraemer v. city ofnew york, 19 - cv - 6671 [ vec ], not reported in fed. supp., 2020 wl 1974204 [ sdny april 24, 2020 ] ). 153243 / 2024 kraemer, thomas d vs. edelstein, florence et al page 2 of 12 motion no. 001 002 003 004 005 006 2 of 12 [ * 2 ] index no. 153243 / 2024 nyscef doc. no. 365 received nyscef : 02 / 24 / 2025 plaintiffs filing history evinces a pattern of vexatious, duplicative, and nonmeritorious litigation.\n",
      "\n"
     ]
    }
   ],
   "source": [
    "query = \"Retrieve cases discussing the same issues as Citizens United v. FEC, 558 U.S. 310 (2010).\"\n",
    "\n",
    "top_results = vector_store.similarity_search(query, k=10)  \n",
    "for i, result in enumerate(top_results):\n",
    "    print(f\"Result {i + 1}:\\n{result.page_content}\\n\")"
   ]
  },
  {
   "cell_type": "code",
   "execution_count": 60,
   "id": "fce08021-cde6-4565-b184-170017da9438",
   "metadata": {
    "scrolled": true
   },
   "outputs": [
    {
     "name": "stdout",
     "output_type": "stream",
     "text": [
      "Result 1:\n",
      "##7 ( 11th cir. 2009 ). 26 trump v. cable news network, inc., 2023 wl 8433599, at * 1 ( s. d. fla. 2023 ) ( quoting holland v. florida, 2007 wl 9705926, at * 1 ( s. d. fla. 2007 ) ) ; see also williams v. cruise ships catering & serv. int ’ l, n. v., 320 f. supp. 2d 1347, 1358 ( s. d. fla. 2004 ) ( “ reconsideration of a previous order is ‘ an extraordinary remedy, to be employed sparingly. ’ ” ) ( quoting mannings v. school board of hillsborough county, 149 f. r. d. 235, 235 ( m. d. fla. 1993 ) ). 27 ecf no. 46, at ¶ 7. 28 s. e. c. v. simmons, 241 fed. app ’ x 660, 663 ( 11th cir. 2007 ) ( citing solaroll shade & shutter corp., inc. v. bio - energy systems, inc., 803 f. 2d 1130, 1133 ( 11th cir. 1986 ) ).\n",
      "\n",
      "Result 2:\n",
      ". osborn v. kemp, 991 a. 2d 1153, 1160 ( del. 2010 ) ) ( internal quotation marks omitted ). 64 benchmark invs. llc, 2024 wl 3567367 at * 6 ( quoting osborn ex rel. osborn, 991 a. 2d at 1160 ). 65 kuhn const., inc. v. diamond state port corp., 990 a. 2d 393, 396 – 97 ( del. 2010 ) ( citing energy p ’ rs, ltd. v. stone energy corp., 2006 wl 2947483, at * 13 ( del. ch. oct 11, 2006 ) ). 66 terrell v. kiromic biopharma, inc., 2024 wl 370040, at * 7 ( del. ch. jan. 31, 2024 ) rev ’ d on other grounds, 2025 wl 249073 ( del. jan. 21, 2025 ) ( quoting antonin scalia & bryan a. garner, reading law : the interpretation of legal texts 170 - 73 ). 12 iv.\n",
      "\n",
      "Result 3:\n",
      "of any party or on our own initiative. t ex. r. app. p. 45 ; pantlitz v. sikkenga, 01 - 10 - 00581 - cv, 2011 wl 5116464, at * 5 ( tex. app. — houston [ 1st dist. ] oct. 27, 2011, no pet. ) ( mem. op. ) ( citing smith v. brown, 51 s. w. 3d 376, 381 ( tex. app. — houston [ 1st dist. ] 2001, pet. denied ) ). we apply an objective test to determine whether an appeal is frivolous and conduct a full examination of the record and all the proceedings from the viewpoint of the advocate. panlitz, 2011 wl 5116464, at * 5 ; smith, 51 s. w. 3d at 381. the goal of this inquiry is to determine whether the advocate had reasonable grounds to believe that the trial court ’ s judgment should be reversed. panlitz, 2011 wl 5116464, at * 5 ; smith, 51 s. w. 3d at 381. we exercise prudence and caution and deliberate carefully before awarding damages under rule 45. panlitz, 2011 wl 5116464, at * 5 ; smith, 51 s. w. 3d at 381. we award sanctions in truly egregious circumstances. panlitz, 2011 wl 5116464, at * 5 ( citing goss v. hous. cmty. newspapers, 252 s. w. 3d 652, 657 ( tex. app. — houston [ 14th dist. ] 2008, no pet. ) ). 7 an appellant ’ s failure to provide a reporter ’ s record does not, standing alone, make her appeal frivolous.\n",
      "\n",
      "Result 4:\n",
      ": the scope of the new york times rule in defamation claims by former public officials and candidates, 38 vt. l. rev. 275, 289 – 90 ( footnotes omitted ) ( collecting cases and authorities ). 9 in huckabee v. time warner entertainment co., the texas supreme court recognized that “ to prevail at trial, a plaintiff must establish actual malice by clear and convincing evidence. ” 19 s. w. 3d 413, 420 ( tex. 2000 ). but it “ decline [ d ] to adopt the clear - and - convincing requirement at ( continue ) “ [ t ] o establish actual malice, a plaintiff must prove that the defendant made the statement ‘ with knowledge that it was false or with reckless disregard of whether it was true or not. ’ ” huckabee, 19 s. w. 3d at 420 ( quoting sullivan, 376 u. s. at 279 – 80, 84 s. ct. at 710 ). and “ [ t ] o establish reckless disregard, a public official or public figure must prove that the publisher ‘ entertained serious doubts as to the truth of his publication. ’ ” id. ( quoting st. amant, 390 u. s. at 731, 88 s. ct. at 1325 ). “ malice is a subjective standard : the ‘ crux of the actual - malice inquiry is whether the defendant subjectively has significant doubt about the truth of his statements at the time they are made. ’ ” smith v. wal - mart stores, inc., 980 f. 3d 1060, 1063 ( 5th cir. 2020 ) ( quoting frakes v. crete carrier corp., 579 f. 3d 426, 431 ( 5th cir. 2009 ) ).\n",
      "\n",
      "Result 5:\n",
      "e. g., nowell 15 v. nowell, 384 f. 2d 951 ( 5th cir. 1967 ), cert. denied, 390 u. s. 956, 88 s. ct. 1053, 16 19 l. ed. 2d 1150 ; karlsson v. rabinowitz, 318 f. 2d 666 ( 4th cir. 1963 ) ; 17 rovinski v. rowe, 131 f. 2d 687 ( 6th cir. 1942 ) ; insurance co. of north america v. 18 s / s \" hellenic challenger \", 88 f. r. d. 545 ( s. d. n. y. 1980 ) ; nichols v. surgitool, 19 inc., 419 f. supp. 58 ( w. d. n. y. 1976 ) ; blackhawk heating plumbing co. v. turner, 20 50 f. r. d. 144 ( d. ariz. 1970 ) ; adams dairy co. v. national dairy products corp., 21 293 f. supp. 1164 ( w. d. mo. 1968 ) ; hysell v. murray, 28 f. r. d. 584 ( d. iowa 22 1961 ) ; frasca v. eubank, 24 f. r. d. 268 ( e. d. pa. 1959 ) ; james v. russell f. davis, 23 inc., 163 f. supp. 253 ( n. d. ind. 1958 ) ; blane v. young, 10 f. r. d. 109 ( n. d. ohio 24 1950 ) ; leigh v. lynton, 9 f. r. d. 28 ( e. d. n. y.\n",
      "\n",
      "Result 6:\n",
      "report and recommendation adopted, 2022 wl 4547407 ( s. d. n. y. sept. 29, 2022 ) ; jennifer m. v. comm ’ r of soc. sec., no. 21 - cv - 980 ( gts / atb ), 2022 wl 19003388, at * 8 ( n. d. n. y. nov. 18, 2022 ) ; john w. v. kijakazi, no. 20 - cv - 1180 ( bks ), 2022 wl 768672, at * 13 ( n. d. n. y. mar. 14, 2022 ) ). ) plaintiff counters that all the cases cited by the commissioner are distinguishable. ( see ecf 16, plaintiff ’ s reply at 2 - 3. ) she is correct that the two cases from the northern district of new york, jennifer m. and john w., are distinguishable : john w., unlike this case, expressly discusses how the relevant medical opinions was supported, 2022 wl 768672, at * 13 ( n. d. n. y. mar. 14, 2022 ), and so john w. does not provide persuasive support for commissioner ’ s position. jennifer m. states that the source ’ s prior assessments ( on which the source presumably relied in forming the medical opinion ), did not support the medical opinion, 2022 wl 19003388, at * 7 - 8 ( n. d. n. y. nov. 18, 2022 ) ; that is not the case here, and so jennifer m. does not provide persuasive support for the commissioner ’ s position.\n",
      "\n",
      "Result 7:\n",
      "##taliatory action. id. ; hobgood v. ill. gaming bd., 731 f. 3d 635, 643 – 44 ( 7th cir. 2013 ). nonetheless, \" [ a ] llegedly protected speech cannot be proven to motivate retaliation, if there is no evidence that the defendants knew of the protected speech. \" stagman v. ryan, 176 f. 3d 986, 999 – 1000 ( 7th cir. 1999 ). here, other than conclusory allegations, mr. phillips has not produced any evidence that the defendants ' seizure was motivated by retaliatory animus. his arguments related to a larger conspiracy are mere speculation. white v. city of chicago, 829 f. 3d 837, 841 ( 7th cir. 2016 ) ( non - movant receives the \" benefit of reasonable inferences from the evidence, but not speculative inferences in his favor \" ( cleaned up ) ). perhaps, as mr. phillips argues in his response, there was evidence of animus during the preliminary injunction proceeding or the court transcriptions that mr. phillips failed to include in his evidence. perhaps this evidence was merely misdesignated in his more than 200 pages of evidence, but the court ' s review of these pages has not been exhaustive. \" judges are not like pigs, hunting for truffles buried in \" the record. albrechtsen v. bd. of regents, 309 f. 3d 433, 436 ( 7th cir. 2002 ) ( quoting united states v. dunkel, 927 f. 2d 955, 956 ( 7th cir. 1991 ) ; self v. bergh, 835 f. app ' x 873, 874, n. 1 ( 7th cir.\n",
      "\n",
      "Result 8:\n",
      "; kissinger v. reporters comm. for freedom of the press, 445 u. s. 136, 150 ; warth v. dep ’ t of just., 595 f. 2d 521, 522 – 23 ( 9th cir. 1979 ) ( “ courts are exempt from... foia ’ s disclosure requirements, ” and because “ a trial transcript is a court document ” it is “ not obtainable pursuant to... foia. ” ). therefore, the district court lacked jurisdiction over alexander ’ s motion, and we only have jurisdiction over this appeal to correct the district court ’ s error in entertaining the motion. see key, 205 f. 3d at 774 – 75. accordingly, we vacate the district court ’ s order, and this appeal is dismissed for lack of jurisdiction. 2\n",
      "\n",
      "Result 9:\n",
      "in the united states district court for the northern district of ohio western division kibwe rayford, jr., case no. 3 : [ 25 cv 269 ] plaintiff, v. judge james r. knepp ii kyle media, inc., memorandum opinion defendant. and order introduction this complaint is one of many in a long line of employment discrimination cases with which pro se plaintiff kibwe rayford, jr. has flooded the lucas county court of common pleas and, in turn, this federal court upon removal by the defendants. see rayford, jr. v. amazon. com services, llc, no. 3 : 24 - cv - 02195 - jgc ( n. d. ohio ) ( removed dec. 17, 2024 ) ; rayford, jr. v. kyle media, inc., no. 3 : 25 - cv - 00269 - jrk ( n. d. ohio ) ( removed feb. 12, 2025 ) ; rayford, jr. v. checkers drive - in restaurants, inc., no. 3 : 25 - cv - 00294 - jrk ( n. d. ohio ) ( removed feb. 14, 2025 ) ; rayford, jr. v. panda restaurant group, inc., no. 3 : 25 - cv - 00326 - jjh ( n. d. ohio ) ( removed feb. 18, 2025 ) ; rayford, jr. v. sigma technologies, ltd., no. 3 : 25 - cv - 00329 - jjh ( n. d. ohio ) ( removed feb. 18, 2025 ) ; rayford, jr. v. advocates for basic legal equality, inc., no.\n",
      "\n",
      "Result 10:\n",
      "., 282 f. 3d 147, 153 ( 2d cir. 2002 ) ( internal citation omitted ). “ [ t ] he court must accept the material facts alleged in the complaint as true, draw all reasonable inferences in favor of the plaintiffs, and decide whether it is plausible that plaintiffs have a valid claim for relief. ” leonard v. gen. motors l. l. c., 504 f. supp. 3d 73, 83 ( d. conn. 2020 ). documents filed pro se must be liberally construed and interpreted “ to make ‘ the strongest arguments that they suggest. ’ ” wiggins v. griffin, 86 f. 4th 987, 996 ( 2d cir. 2023 ) ( quoting triestman v. fed. bureau of prisons, 470 f. 3d 471, 474 ( 2d cir. 2006 ) ) ; see also erickson v. pardus, 551 u. s. 89, 94. “ even in a pro se case, however, ‘ although a court must accept as true all of the allegations contained in a complaint, that tenet is inapplicable to legal conclusions, and threadbare recitals of the elements of a cause of action, supported by mere conclusory statements, do not suffice. ’ ” chavis v. chappius, 618 f. 3d 162, 170 ( 2d cir. 2010 ) ( quoting harris v. mills, 572 f. 3d 66, 72 ( 2d cir. 2009 ) ). “ the issue is not whether a plaintiff will ultimately prevail but whether the claimant is entitled to offer evidence to support the claims. ” walker v. schult, 717 f. 3d 119, 124 ( 2d cir. 2013 ) ( internal citation and quotation marks omitted ). iii.\n",
      "\n"
     ]
    }
   ],
   "source": [
    "query = \"Find opinions similar to New York Times Co. v. Sullivan, 376 U.S. 254 (1964).\"\n",
    "\n",
    "top_results = vector_store.similarity_search(query, k=10)  \n",
    "for i, result in enumerate(top_results):\n",
    "    print(f\"Result {i + 1}:\\n{result.page_content}\\n\")"
   ]
  },
  {
   "cell_type": "code",
   "execution_count": 61,
   "id": "a607fa42-2f34-4242-a485-be678d2a1666",
   "metadata": {
    "scrolled": true
   },
   "outputs": [
    {
     "name": "stdout",
     "output_type": "stream",
     "text": [
      "Result 1:\n",
      "00051 - cv with cause number 03 - 24 - 00130 - cv for all purposes. the issues, records, and documents filed in cause number 03 - 25 - 00051 - cv are consolidated into cause number 03 - 24 - 00130 - cv. the consolidated appeal shall proceed under appeal number 03 - 24 - 00130 - cv and cause number 03 - 25 - 00051 - cv is hereby dismissed. see tex. r. app. p. 42. 1 ( a ). _ _ _ _ _ _ _ _ _ _ _ _ _ _ _ _ _ _ _ _ _ _ _ _ _ _ _ _ _ _ _ _ _ _ _ _ _ _ _ _ _ _ rosa lopez theofanis, justice before justices theofanis, crump, and ellis no. 03 - 24 - 00130 - cv consolidated no. 03 - 25 - 00051 - cv dismissed filed : february 26, 2025 2\n",
      "\n",
      "Result 2:\n",
      "not for publication filed united states court of appeals feb 28 2025 molly c. dwyer, clerk u. s. court of appeals for the ninth circuit ricardo aguilar garcia, aka nos. 19 - 71917 ricardo aguilargarcia, 23 - 1536 agency no. petitioner, a204 - 909 - 937 v. memorandum * pamela bondi, attorney general, respondent. on petition for review of an order of the board of immigration appeals argued and submitted february 6, 2025 san francisco, california before : forrest and sanchez, circuit judges, and ezra, district judge. * * petitioner ricardo aguilar garcia ( “ petitioner ” ) appeals the board of immigration appeals ’ ( “ bia ” ) decision denying his motion to suppress and motion to reopen proceedings. “ we review de novo the denial of a motion to * this disposition is not appropriate for publication and is not precedent except as provided by ninth circuit rule 36 - 3. * * the honorable david a. ezra, united states district judge for the district of hawaii, sitting by designation. suppress. ” martinez - medina v. holder, 673 f. 3d 1029, 1033 ( 9th cir. 2011 ) ( citation omitted ). we also review constitutional and legal claims de novo. zuniga v. garland, 86 f. 4th 1236, 1239 ( 9th cir. 2023 ) ; b. r. v. garland, 26 f. 4th 827, 835 ( 9th cir. 2022 ). we review findings of fact under the substantial evidence standard. zuniga, 86 f. 4th at 1239. we review the denial of a motion to reopen for abuse of discretion. agonafer v. sessions, 859 f. 3d 1198, 1203 ( 9th cir. 2017 ).\n",
      "\n",
      "Result 3:\n",
      "_ _ _ _ _ _ _ _ _ _ _ _ _ _ _ _ _ _ _ _ _ _ _ _ _ _ _ _ _ _ _ _ _ _ _ _ _ counsel : jonathan e. demson, under appointment by the supreme court, for defendant and appellant. galit lipa, state public defender, and elias batchelder, deputy state public defender, for the office of the state public defender as amicus curiae on behalf of defendant and appellant. rob bonta, attorney general, lance e. winters, chief assistant attorney general, susan sullivan pithey, assistant attorney general, michael r. johnsen, idan ivri, charles s. lee, kathy s. pomerantz and amanda v. lopez, deputy attorneys general, for plaintiff and respondent. counsel who argued in supreme court ( not intended for publication with opinion ) : jonathan e. demson attorney at law 2632 wilshire boulevard # 291 santa monica, ca 90403 405 - 0332 amanda v. lopez deputy attorney general 300 south spring street, suite 1702 los angeles, ca 90013 269 - 6118\n",
      "\n",
      "Result 4:\n",
      ", 2025 before diaz, chief judge, and wynn and thacker, circuit judges. affirmed in part, reversed in part, and remanded by published opinion. judge wynn wrote the opinion, in which chief judge diaz and judge thacker joined. usca4 appeal : 24 - 1043 doc : 55 filed : 02 / 26 / 2025 pg : 2 of 32 argued : samuel robert simkins, akeel & valentine, plc, troy, michigan, for appellants. kolya david glick, arnold & porter kaye scholer llp, washington, d. c. ; raymond a. cardozo, reed smith llp, san francisco, california, for appellee. on brief : shereef h. akeel, adam s. akeel, daniel w. cermak, hayden pendergrass, akeel & valentine, plc, troy, michigan ; john w. cleary, msp recovery law firm, coral gables, florida ; david hilton wise, william n. evans, wise law firm, plc, fairfax, virginia, for appellants. thomas h. suddath, jr., philadelphia, pennsylvania, douglas e. pittman, reed smith llp, richmond, virginia ; joshua m. davis, washington, d. c., suneeta hazra, brian williams, denver, colorado, nicole l. masiello, laurel m. ruza, aidan mulry, arnold & porter kaye scholer llp, new york, new york, for appellees.\n",
      "\n",
      "Result 5:\n",
      "case : 24 - 10452 document : 44 - 1 page : 1 date filed : 02 / 28 / 2025 united states court of appeals for the fifth circuit united states court of appeals _ _ _ _ _ _ _ _ _ _ _ _ fifth circuit filed no. 24 - 10452 february 28, 2025 summary calendar lyle w. cayce _ _ _ _ _ _ _ _ _ _ _ _ clerk united states of america, plaintiff — appellee, versus carlos martin gonzales, defendant — appellant. _ _ _ _ _ _ _ _ _ _ _ _ _ _ _ _ _ _ _ _ _ _ _ _ _ _ _ _ _ _ appeal from the united states district court for the northern district of texas usdc no. 2 : 23 - cr - 28 - 1 _ _ _ _ _ _ _ _ _ _ _ _ _ _ _ _ _ _ _ _ _ _ _ _ _ _ _ _ _ _ before smith, stewart, and duncan, circuit judges. per curiam : * the attorney appointed to represent carlos martin gonzales has moved for leave to withdraw and has filed a brief in accordance with anders v. california, 386 u. s. 738, and united states v. flores, 632 f. 3d 229 ( 5th cir. 2011 ). gonzales has not filed a response. we have reviewed counsel ’ s brief and the relevant portions of the record reflected therein. we _ _ _ _ _ _ _ _ _ _ _ _ _ _ _ _ _ _ _ _ _ * this opinion is not designated for publication. see 5th cir. r. 47. 5. case : 24 - 10452 document : 44 - 1 page : 2 date filed : 02 / 28 / 2025 no. 24 - 10452 concur with counsel ’ s assessment that the appeal presents no nonfrivolous issue for appellate review.\n",
      "\n",
      "Result 6:\n",
      "by the circuit court of appeals. snyder v. ridenour, 889 f. 2d 1363 ( 4th cir. 1989 ) ; thomas v. arn, 474 u. s. 140, 106 s. ct. 466, 88 l. ed. 2d 435 ; wright v. collins, 766 f. 2d 841 ( 4th cir. 1985 ) ; united states v. 5 schronce, 727 f. 2d 91 ( 4th cir. 1984 ), cert. denied, 467 u. s. 1208, 104 s. ct. 2395, 81 l. ed. 2d 352. copies of such objections shall be served on opposing parties, district judge chambers, and this magistrate judge. the clerk is requested to send a copy of this proposed findings and recommendation to petitioner, who is acting pro se. entered : february 3, 2025. pres distr, s 2 dhe | 9 ) s resp 3 s et gl bh yan wh = - 2 hh : § omar j. aboulhosn 7 ) 7s united states magistrate judge srerer of\n",
      "\n",
      "Result 7:\n",
      ". osborn v. kemp, 991 a. 2d 1153, 1160 ( del. 2010 ) ) ( internal quotation marks omitted ). 64 benchmark invs. llc, 2024 wl 3567367 at * 6 ( quoting osborn ex rel. osborn, 991 a. 2d at 1160 ). 65 kuhn const., inc. v. diamond state port corp., 990 a. 2d 393, 396 – 97 ( del. 2010 ) ( citing energy p ’ rs, ltd. v. stone energy corp., 2006 wl 2947483, at * 13 ( del. ch. oct 11, 2006 ) ). 66 terrell v. kiromic biopharma, inc., 2024 wl 370040, at * 7 ( del. ch. jan. 31, 2024 ) rev ’ d on other grounds, 2025 wl 249073 ( del. jan. 21, 2025 ) ( quoting antonin scalia & bryan a. garner, reading law : the interpretation of legal texts 170 - 73 ). 12 iv.\n",
      "\n",
      "Result 8:\n",
      "that would have been in his favor. id. because of that subsequent legal development, we found that had “ lopez - chavez ’ s counsel challenged the ij ’ s ruling regarding the classification of his conviction as an aggravated felony, that ruling almost certainly would have been reversed. ” id. at 1041. further, we found that lopez - chavez established the prejudice required to show that he received ineffective assistance of counsel “ in violation of his right to due process. ” id. at 1043. here, like in lopez - chavez, “ only three years ” after flores - bustos was removed, the supreme court issued its decision in descamps, which “ almost certainly ” would have compelled the bia or this court to conclude that the ij erred both by concluding that it should apply the modified categorical approach in flores - bustos ’ s case and by engaging in factfinding to find a match. id. at 1040 – 41 ; see descamps, 570 u. s. at 258, 270. moreover, in lopez - chavez, the legal issue that counsel failed to pursue was the subject of a circuit split and an open question in the appropriate court of appeals. see lopez - chavez, 757 f. 3d at 1039 – 37 40. in flores - bustos ’ s case, edmondson failed to pursue legal arguments that would have been supported by existing ninth circuit and supreme court precedents. and, because edmondson failed to raise any challenge to the ij ’ s removability determination, neither we nor the bia had the opportunity to review and reverse that determination. flores - bustos thus established the “ requisite prejudice ” to show he received ineffective assistance of counsel in violation of due process. id. at 1043 ; see also salazar - gonzalez v. lynch, 798 f. 3d 917, 922 ( 9th cir.\n",
      "\n",
      "Result 9:\n",
      "next page for addresses and telephone numbers for counsel who argued in supreme court. name of opinion people v. patton _ _ _ _ _ _ _ _ _ _ _ _ _ _ _ _ _ _ _ _ _ _ _ _ _ _ _ _ _ _ _ _ _ _ _ _ _ _ _ _ _ _ _ _ _ _ _ _ _ _ _ _ _ _ _ _ _ _ procedural posture ( see xx below ) original appeal original proceeding review granted ( published ) xx 89 cal. app. 5th 649 review granted ( unpublished ) rehearing granted _ _ _ _ _ _ _ _ _ _ _ _ _ _ _ _ _ _ _ _ _ _ _ _ _ _ _ _ _ _ _ _ _ _ _ _ _ _ _ _ _ _ _ _ _ _ _ _ _ _ _ _ _ _ _ _ _ _ opinion no. s279670 date filed : march 3, 2025 _ _ _ _ _ _ _ _ _ _ _ _ _ _ _ _ _ _ _ _ _ _ _ _ _ _ _ _ _ _ _ _ _ _ _ _ _ _ _ _ _ _ _ _ _ _ _ _ _ _ _ _ _ _ _ _ _ _ court : superior county : los angeles judge : hector e. gutierrez _ _ _ _ _ _ _ _ _ _ _ _ _ _ _ _ _ _ _ _ _ _ _ _ _ _ _ _ _ _ _ _ _ _ _ _ _ _ _ _ _ _ _ _ _ _ _ _ _ _ _ _ _ _ _ _ _ _ counsel : jonathan e. demson, under appointment by the supreme court, for defendant and appellant. galit lipa, state public defender, and elias batchelder, deputy state public defender, for the office of the state public defender as amicus curiae on behalf of defendant and appellant.\n",
      "\n",
      "Result 10:\n",
      "., green - doyle v. dep ’ t of homeland sec., 817 f. app ’ x 983, 986 ( fed. cir. 2020 ) ( finding plaintiff had presented a “ mixed case ” when she claimed that she had been fired in retaliation for contacting the eeoc and dismissing appeal for lack of jurisdiction ) ; diggs v. dep ’ t of hous. & urban dev., 670 f. 3d 1353, 1358 ( fed. cir. 2011 ) ( stating that “ affirmative defenses of reprisal for prior eeo activity are assertion [ s ] of discrimination under title vii and within the meaning of 5 u. s. c. § 7702, ” which deprive the federal circuit of jurisdiction ) ; see also docket sheet [ # 1 - 3 ] at 171 ( federal circuit order explaining that “ ‘ [ c ] ases of discrimination, ’ where the petitioner appealed an adverse action to the board and raised a claim of covered discrimination, including retaliation,... belong in district court ” ). 2. law of the case the “ law of the case ” doctrine states that, “ when a court decides upon a rule of law, that decision should continue to govern the same issues in subsequent stages in the same case. ” arizona v. california, 460 u. s. 605, 618. this is meant to promote finality and judicial efficiency by “ protecting against the agitation of settled issues. ” christianson v. colt indus. operating corp., 486 u. s. 800, 816 ( quoting 1b j. moore et al., moore ’ s federal practice ¶ 0. 404, p. 118 ).\n",
      "\n"
     ]
    }
   ],
   "source": [
    "query = \"Locate cases that follow the precedent set by United States v. Lopez, 514 U.S. 549 (1995)\"\n",
    "\n",
    "top_results = vector_store.similarity_search(query, k=10)  \n",
    "for i, result in enumerate(top_results):\n",
    "    print(f\"Result {i + 1}:\\n{result.page_content}\\n\")"
   ]
  },
  {
   "cell_type": "code",
   "execution_count": 64,
   "id": "6ca7e563-bccc-4a7b-8c97-8cf54dc485f8",
   "metadata": {
    "scrolled": true
   },
   "outputs": [
    {
     "name": "stdout",
     "output_type": "stream",
     "text": [
      "Result 1:\n",
      "defendant asserts plaintiff ’ s complaint fails to state a claim because receiving treatment 4 for infertility and “ hoping to become pregnant ” does not make her a member of a protected 5 class — specifically, pregnancy - related sex discrimination. ( doc. 7 at 8 ). defendant argues 6 plaintiff does not belong to a protected class because she was not pregnant, had not given 7 birth, and did not have a medical condition related to pregnancy or childbirth when she was 8 not selected. ( id. ) plaintiff counters she is a member of a protected class because of her 9 potential to become pregnant and her ongoing, outspoken, efforts to become pregnant. 10 ( doc. 8 at 9 ). 11 in support of its assertion, defendant relies on two out of circuit cases, laporta v. 12 wal - mart stores, inc., 163 f. supp. 2d 758 ( w. d. mich. 2001 ) and krauel v. iowa 13 methodist med. ctr., 95 f. 3d 674 ( 8th cir. 1996 ). ( doc. 7 at 8 ), neither of which are 14 persuasive. krauel held that a health insurance plan which excludes coverage for infertility 15 treatment does not violate the pda because infertility affects both men and women and is 16 therefore gender neutral. krauel, 95 f. 3d at 677 – 78. infertility, on its own, is something 17 “ all individuals ” could suffer from. id. at 678. the court in laporta applied a similar focus 18 and reasoning. see 163 f. supp. 2d at 770 ( “ i find that krauel is the more persuasive 19 authority on this issue of statutory construction.\n",
      "\n",
      "Result 2:\n",
      ", zoloft, trulicity ( dulaglutide ). (, pl. culbertson disc. reqs. & resps. at 18. ) plaintiffs object on the ground that the interrogatory is irrelevant, overbroad, harassing, unduly burdensome, and violates the physician - patient privilege. ( at 18 – 19 ; pl. lewis disc. reqs. & resps. at 23 ; pl. mcconnell disc. reqs. & resps. at 13 ; pl. stewart disc. reqs. & resps. at 23 ; pl. sulander reqs. & resps. at 23 ; pl. sullivan disc. reqs. & resps. at 10 – 11. ) interrogatory 20 is relevant. each plaintiff contends they objected to receiving the covid - 19 vaccine, in part, because of its use of “ abortion - derived fetal cells. ” ( 3d am. compl. ¶ 32. ) the use of these cells is alleged to be “ contrary to [ plaintiffs ’ ] religious teachings and beliefs. ” ( ) thus, history of use of products derived from fetal cells is relevant to the sincerity of plaintiffs ’ beliefs., no. 5 : 22 - cv - 2220 - jgb, 2024 wl 1634095, at * 3 ( e. d. cal. mar. 22, 2024 ) ( vaccination history is relevant to plaintiff ’ s religious discrimination claim based on refusal to obtain the covid - 19 vaccine ) ;, no. 22 - cv - 1760 - dkc, 2025 wl 266664, at * 6 ( d. md.\n",
      "\n",
      "Result 3:\n",
      "nebraska supreme court online library www. nebraska. gov / apps - courts - epub / 03 / 04 / 2025 12 : 08 am cst - 489 - nebraska court of appeals advance sheets 33 nebraska appellate reports state on behalf of jaide y. & demee y. v. hope n. cite as 33 neb. app. 489 state of nebraska on behalf of jaide y. and demee y., minor children, appellees, v. hope n., appellant, and sierra y., appellee. _ _ _ n. w. 3d _ _ _ filed february 25, 2025. no. a - 24 - 418. 1. paternity : appeal and error. in a filiation proceeding, the appellate court reviews the trial court ’ s judgment de novo on the record to deter - mine whether there has been an abuse of discretion by the trial judge, whose judgment will be upheld in the absence of an abuse of discretion. 2. judgments : appeal and error. when reviewing a question of law, an appellate court reaches a conclusion independent of the lower court ’ s ruling. 3. constitutional law : due process : right to counsel : paternity. due process requires that an indigent defendant in a paternity proceeding be furnished appointed counsel at public expense. 4. appeal and error. an appellate court is not obligated to engage in an analysis that is not necessary to adjudicate the case and controversy before it. appeal from the district court for lincoln county : michael e. piccolo, judge. reversed in part and in part vacated, and cause remanded for further proceedings. hope n., pro se. stephen b. king, deputy lincoln county attorney, for appellee state of nebraska. riedmann, chief judge, and bishop and arterburn, judges.\n",
      "\n",
      "Result 4:\n",
      "8 anderson, 477 u. s. at 256. 9 id. ; accord eck v. parke, davis & co., 256 f. 3d 1013, 1017 ( 10th cir. 2001 ). 10 mitchell v. city of moore, 218 f. 3d 1190, 1197 – 98 ( 10th cir. 2000 ) ( quoting adler, 144 f. 3d at 671 ). 11 adams v. am. guar. & liab. ins. co., 233 f. 3d 1242, 1246 ( 10th cir. 2000 ). 12 argo v. blue cross & blue shield of kan., inc., 452 f. 3d 1193, 1199 ) ( 10th cir. 2006 ) ( citations omitted ).\n",
      "\n",
      "Result 5:\n",
      "##zable sex - discrimination claim under title vii 1 because “ [ e ] mployees terminated for taking time off to undergo ivf — just like those 2 terminated for taking time off to give birth or receive other pregnancy - related care — will 3 always be women... [ the plaintiff ] was terminated not for the gender - neutral condition of 4 infertility, but rather for the gender - specific quality of childbearing capacity. ” id. at 648 – 5 49. the reasoning in hall is persuasive. as the seventh circuit noted, only women 6 undergo ivf treatment. id. as alleged in plaintiff ’ s complaint, she was terminated based 7 on her gender - specific efforts and ability to become pregnant — which is a cognizable claim 8 under title vii. see id. ; 42 u. s. c. § 2000e – 2 ( a ). 9 defendant ’ s focus on someone who receives infertility treatments ignores the 10 “ simple test ” for whether a pregnancy - related claim amounts to sex discrimination under 11 title vii — which is whether the employer treated an employee “ in a manner which but for 12 that person ’ s sex would be different. ” newport news shipbuilding & dry dock co. v. 13 e. e. o. c., 462 u. s. 669, 683, ( citing city of los angeles, dep ’ t of water & power 14 v. manhart, 435 u. s. 702, 711, ). here, plaintiff does not allege defendant 15 discriminated against her solely because she was infertile, was receiving treatment for 16 infertility, or hoping to become pregnant. instead, plaintiff alleges defendant refused to 17 hire her because she was trying to become pregnant and was making active efforts to 18 become pregnant. ( doc.\n",
      "\n",
      "Result 6:\n",
      "united states district court southern district of new york israel ; sharon brown ; unborn babies ; all people who have a right to life ; the god of the bible ; yahweh ; elohim ; hashem ; jesus christ ; the holy spirit, plaintiffs, 24 - cv - 7061 ( lts ) - against - order of dismissal u. n. united nations ; w. h. o. ; world health organization ; unrwa ; o. m. h. office of meanth health ; planned parenthood ; abortion industry, defendants. laura taylor swain, chief united states district judge : plaintiff sharon brown, who is appearing pro se, brings this action invoking the court ’ s federal question jurisdiction. she alleges that defendants violated her right to life, to freedom of speech, to bear arms, to self - defense, and to freedom of religion. she appears to bring this action on behalf of the state of israel, “ unborn babies, ” “ all people who have a right to life, ” “ the god of the bible, ” yahweh, elohim, hashem, jesus christ, and the holy spirit. she names as defendants the united nations, the world health organization, the united nations relief and works agency for palestine refugees in the near east, ( presumably ) the new york state office of mental health, planned parenthood, and the “ abortion industry. ” by order dated september 19, 2024, the court granted plaintiff ’ s request to proceed in forma pauperis ( “ ifp ” ), that is, without prepayment of fees.\n",
      "\n",
      "Result 7:\n",
      "opinion issued february 25, 2025 in the court of appeals for the first district of texas — — — — — — — — — — — — no. 01 - 24 - 00708 - cv — — — — — — — — — — — in the interest of a. n., a child on appeal from the 300th district court brazoria county, texas trial court case no. 121476 - f memorandum opinion the department of family and protective services ( “ dfps ” ) sought to terminate the parental rights of j. n. a / k / a j. r. ( “ mother ” ) to her minor daughter, a. n. ( “ anna ” ). 1 following a bench trial, the trial court terminated mother ’ s parental 1 in this opinion, we use pseudonyms for the minor child and her family members to protect their privacy. see tex. r. app. p. 9. 8 ( b ). rights to anna based on two statutory predicate grounds. see tex. fam. code § 161. 001 ( b ) ( e ), ( o ). the court further determined that termination of mother ’ s parental rights was in anna ’ s best interest. see id. § 161. 001 ( b ). mother raises five issues on appeal. in her first two issues, she challenges the trial court ’ s failure to dismiss the termination case against her after the court did not render a final order within 90 days after trial commenced. in her third issue, she argues that legally and factually insufficient evidence supports the trial court ’ s finding that her parental rights should be terminated under subsection ( o ).\n",
      "\n",
      "Result 8:\n",
      "finding is not so significant that the court could not reasonably have formed a firm belief or conviction that termination of mother ’ s parental rights was in anna ’ s best interest. see in re a. b., 437 s. w. 3d at 503. we hold that factually sufficient evidence supports the trial court ’ s best - interest finding. we overrule mother ’ s fifth issue. conclusion we affirm the judgment of the trial court terminating mother ’ s parental rights to anna. david gunn justice panel consists of chief justice adams and justices gunn and guiney. 36\n",
      "\n",
      "Result 9:\n",
      "accepted 15 - 25 - 00010 - cv fifteenth court of appeals austin, texas 2 / 25 / 2025 3 : 16 pm no. 15 - 25 - 00010 - cv christopher a. prine _ _ _ _ _ _ _ _ _ _ _ _ _ _ _ _ _ _ _ _ _ _ _ _ _ _ _ _ _ clerk filed in in the court of appeals 15th austin, court of appeals texas for the fifteenth judicial district2 / 25 / 2025 3 : 16 : 35 pm austin, texas christopher a. prine clerk _ _ _ _ _ _ _ _ _ _ _ _ _ _ _ _ _ _ _ _ _ _ _ _ _ _ _ _ _ _ texas health and human services commission appellant, v. shanressa craddock appellee. _ _ _ _ _ _ _ _ _ _ _ _ _ _ _ _ _ _ _ _ _ _ _ _ _ _ _ _ _ _ on appeal from the 250th judicial district court of travis county, texas cause no. d - 1 - gn - 22 - 007315 _ _ _ _ _ _ _ _ _ _ _ _ _ _ _ _ _ _ _ _ _ _ _ _ _ _ _ _ _ _ status report on request for trial court record _ _ _ _ _ _ _ _ _ _ _ _ _ _ _ _ _ _ _ _ _ _ _ _ _ _ _ _ _ _ 15 - 25 - 00010 - cv ; texas health and human services commission.\n",
      "\n",
      "Result 10:\n",
      ". 1998 ) ). 19 defendant argues dismissal is appropriate because plaintiff ’ s complaint fails the 20 first and fourth elements. ( doc. 7 at 7 – 9 ). specifically, defendant argues plaintiff 21 receiving treatment for infertility and “ hoping to become pregnant ” does not make her a 22 member of a protected class under 42 u. s. c. § 2000e ( k ) and a. r. s. § 41 - 1461 for a sex 23 discrimination claim. ( id. at 8 ). construing the well - pleaded factual allegations in 24 plaintiff ’ s complaint in her favor, as the non - moving party, the court finds that she has 25 plead facts sufficient to state a sex discrimination claim. [ 26 section 701 ] ( k ) of title vii, as amended in 1978 by the pregnancy discrimination 27 p. 2d 745, 750 ( ariz. ct. app. 1985 ). accordingly, the court will apply the same legal 28 standard in considering whether plaintiff plausibly alleged a claim for discrimination under both federal title vii law and state acra law. 1 act ( “ pda ” ), makes it unlawful for an employer to discharge or otherwise discriminate 2 against a woman because she is pregnant. 42 u. s. c. § § 2000e ( k ) and 2000e – 2 ( a ). 3 defendant asserts plaintiff ’ s complaint fails to state a claim because receiving treatment 4 for infertility and “ hoping to become pregnant ” does not make her a member of a protected 5 class — specifically, pregnancy - related sex discrimination. ( doc. 7 at 8 ). defendant argues 6 plaintiff does not belong to a protected class because she was not pregnant, had not given 7 birth, and did not have a medical condition related to pregnancy or childbirth when she was 8 not selected. ( id. )\n",
      "\n"
     ]
    }
   ],
   "source": [
    "query = \"Find cases addressing similar issues as Planned Parenthood v. Casey, 505 U.S. 833 (1992).\"\n",
    "\n",
    "top_results = vector_store.similarity_search(query, k=10)  \n",
    "for i, result in enumerate(top_results):\n",
    "    print(f\"Result {i + 1}:\\n{result.page_content}\\n\")"
   ]
  },
  {
   "cell_type": "code",
   "execution_count": 65,
   "id": "55cb373d-0729-4801-a497-5e25f92c9081",
   "metadata": {
    "scrolled": true
   },
   "outputs": [
    {
     "name": "stdout",
     "output_type": "stream",
     "text": [
      "Result 1:\n",
      "texas court of appeals, third district, at austin no. 03 - 24 - 00496 - cv colin lee johnson, appellant v. amanda kay like, appellee from the 250th district court of travis county no. d - 1 - ag - 19 - 001394, the honorable don r. burgess, judge presiding memorandum opinion appellant colin lee johnson has filed an unopposed motion to dismiss this appeal. we grant appellant ’ s motion and dismiss the appeal. see tex. r. app. p. 42. 1 ( a ). _ _ _ _ _ _ _ _ _ _ _ _ _ _ _ _ _ _ _ _ _ _ _ _ _ _ _ _ _ _ _ _ _ _ _ _ _ _ _ _ _ _ maggie ellis, justice before chief justice byrne, justices kelly and ellis dismissed on appellant ’ s motion filed : february 27, 2025\n",
      "\n",
      "Result 2:\n",
      "court of appeals, 486 u. s. 429, 438 n. 10, 108 s. ct. 1895, 1902 n. 10, 100 l. ed. 2d 440. after a review of the entire record in this appeal, we have determined levine v. the state of texas page 2 the appeal to be wholly frivolous. see bledsoe v. state, 178 s. w. 3d 824, 826 – 28 ( tex. crim. app. 2005 ). accordingly, we affirm the trial court ’ s judgment. counsel ’ s motion to withdraw from representation of levine is granted. matt johnson chief justice opinion delivered and filed : february 27, 2025 before chief justice johnson, justice smith, and justice harris affirmed do not publish cr25 levine v. the state of texas page 3\n",
      "\n",
      "Result 3:\n",
      "texas court of appeals, third district, at austin judgment rendered february 27, 2025 no. 03 - 24 - 00496 - cv colin lee johnson, appellant v. amanda kay like, appellee appeal from the 250th district court of travis county before chief justice byrne, justices kelly and ellis dismissed on appellant ’ s motion - - opinion by justice ellis this is an appeal from the order signed by the trial court on july 11, 2024. colin lee johnson has filed a motion to dismiss the appeal, and having considered the motion, the court agrees that the motion should be granted. therefore, the court grants the motion and dismisses the appeal. the appellant shall pay all costs relating to this appeal, both in this court and in the court below.\n",
      "\n",
      "Result 4:\n",
      "..... 43 retzlaff v. tex. dep ’ t of crim. justice, 135 s. w. 3d 731 ( tex. app. — houston [ 1st dist. ] 2003, no pet. )...................... 41 scott v. huntsville indep. sch. dist., 487 s. w. 2d 692 ( tex. 1972 ).............................................................................. 25 seureau v. exxonmobil corp., 274 s. w. 3d 206 ( tex. app. — houston [ 14th dist. ] 2008, no pet. )................... 48 sharyland water supply corp. v. city of alton, 354 s. w. 3d 407 ( tex.\n",
      "\n",
      "Result 5:\n",
      "11th court of appeals eastland, texas judgment shaun russell conley, * from the 70th district court of ector county, trial court no. a - 21 - 1162 - cr. vs. no. 11 - 24 - 00316 - cr * february 27, 2025 the state of texas, * memorandum opinion by bailey, c. j. ( panel consists of : bailey, c. j., trotter, j., and williams, j. ) this court has inspected the record in this cause and concludes that the appeal should be dismissed for want of jurisdiction. therefore, in accordance with this court ’ s opinion, the appeal is dismissed.\n",
      "\n",
      "Result 6:\n",
      "11th court of appeals eastland, texas judgment john harvey sexton, * from the 91st district court of eastland county, trial court no. 25101. vs. no. 11 - 25 - 00017 - cr * february 27, 2025 the state of texas, * memorandum opinion by williams, j. ( panel consists of : bailey, c. j., trotter, j., and williams, j. ) this court has inspected the record in this cause and concludes that the appeal should be dismissed for want of jurisdiction. therefore, in accordance with this court ’ s opinion, the appeal is dismissed.\n",
      "\n",
      "Result 7:\n",
      "in the court of appeals second appellate district of texas at fort worth no. 02 - 24 - 00313 - cv in the matter of j. p. § on appeal from the 323rd district court § of tarrant county ( 323 - 123061 - 24 ) § february 27, 2025 § memorandum opinion by justice kerr judgment this court has considered the record on appeal in this case and holds that there was no error in the trial court ’ s judgment. it is ordered that the judgment of the trial court is affirmed. second district court of appeals by _ _ / s / elizabeth kerr _ _ _ _ _ _ _ _ _ _ _ _ _ _ _ _ _ _ justice elizabeth kerr\n",
      "\n",
      "Result 8:\n",
      "findings. ( e ) if a party submits under a state agency rule proposed findings of fact or conclusions of law, the decision or order shall include a ruling on each proposed finding or conclusion. credits added by acts 1993, 73rd leg., ch. 268, § 1, eff. sept. 1, 1993. amended by acts 2015, 84th leg., ch. 625 ( s. b. 1267 ), § 3, eff. sept. 1, 2015. notes of decisions v. t. c. a., government code § 2001. 141, tx govt § 2001. 141 current through the end of the 2023 regular, second, third and fourth called sessions of the 88th legislature, and the nov. 7, 2023 general election. end of document © 2025 thomson reuters. no claim to original u. s. government works. © 2025 thomson reuters. no claim to original u. s. government works. 1 § 2001. 142. notification of decisions and orders, tx govt § 2001. 142 vernon ' s texas statutes and codes annotated government code ( refs & annos ) title. 10. general government ( refs & annos ) subtitle a. administrative procedure and practice chapter 2001. administrative procedure ( refs & annos ) subchapter f. contested cases : final decisions and orders ; motions for rehearing ( refs & annos ) v. t. c. a., government code § 2001. 142 § 2001. 142.\n",
      "\n",
      "Result 9:\n",
      "in the court of appeals second appellate district of texas at fort worth no. 02 - 23 - 00262 - cr tyrone oliver jr., appellant § on appeal from the 211th district court § of denton county ( f21 - 2287 - 211 ) v. § february 27, 2025 § memorandum opinion by justice walker the state of texas § ( nfp ) judgment this court has considered the record on appeal in this case and holds that there was no error in the trial court ’ s judgment. it is ordered that the judgment of the trial court is affirmed. second district court of appeals by / s / brian walker justice brian walker\n",
      "\n",
      "Result 10:\n",
      "case : 24 - 50099 document : 67 - 1 page : 1 date filed : 02 / 27 / 2025 united states court of appeals for the fifth circuit united states court of appeals _ _ _ _ _ _ _ _ _ _ _ _ fifth circuit filed no. 24 - 50099 february 27, 2025 _ _ _ _ _ _ _ _ _ _ _ _ lyle w. cayce clerk united states of america, plaintiff — appellee, versus tracy thurman caldwell, defendant — appellant. _ _ _ _ _ _ _ _ _ _ _ _ _ _ _ _ _ _ _ _ _ _ _ _ _ _ _ _ _ _ appeal from the united states district court for the western district of texas usdc no. 6 : 21 - cr - 119 - 1 _ _ _ _ _ _ _ _ _ _ _ _ _ _ _ _ _ _ _ _ _ _ _ _ _ _ _ _ _ _ before haynes, higginson, and douglas, circuit judges. per curiam : * the attorney appointed to represent tracy caldwell has moved for leave to withdraw and has filed a brief in accordance with anders v. california, 386 u. s. 738, and united states v. flores, 632 f. 3d 229 ( 5th cir. 2011 ). caldwell has not filed a response. we have reviewed counsel ’ s brief and the relevant portions of the record reflected therein. we concur with counsel ’ s assessment that the appeal presents no nonfrivolous issue for appellate _ _ _ _ _ _ _ _ _ _ _ _ _ _ _ _ _ _ _ _ _ * this opinion is not designated for publication. see 5th cir. r. 47. 5. case : 24 - 50099 document : 67 - 1 page : 2 date filed : 02 / 27 / 2025 no.\n",
      "\n"
     ]
    }
   ],
   "source": [
    "query = \"Find judicial opinions aligned with Texas v. Johnson, 491 U.S. 397 (1989).\"\n",
    "\n",
    "top_results = vector_store.similarity_search(query, k=10)  \n",
    "for i, result in enumerate(top_results):\n",
    "    print(f\"Result {i + 1}:\\n{result.page_content}\\n\")"
   ]
  },
  {
   "cell_type": "code",
   "execution_count": null,
   "id": "e9c07878-72b9-4c4b-8fa5-652a71cc12b3",
   "metadata": {},
   "outputs": [],
   "source": []
  },
  {
   "cell_type": "code",
   "execution_count": null,
   "id": "a0ebead1-252d-4779-9af6-82d39520cf06",
   "metadata": {},
   "outputs": [],
   "source": []
  },
  {
   "cell_type": "markdown",
   "id": "746baaa8-a674-40b0-b774-7948a6bd73e6",
   "metadata": {},
   "source": [
    "# Integrate into RAG Pipeline"
   ]
  },
  {
   "cell_type": "code",
   "execution_count": 65,
   "id": "bd6bb42e-1066-4035-85db-3624357cd5f7",
   "metadata": {},
   "outputs": [],
   "source": [
    "# !pip install transformers torch"
   ]
  },
  {
   "cell_type": "code",
   "execution_count": 1,
   "id": "55cbcd3b-f234-4eed-bdf0-b8de583f2a54",
   "metadata": {},
   "outputs": [],
   "source": [
    "from langchain_huggingface import HuggingFaceEmbeddings"
   ]
  },
  {
   "cell_type": "code",
   "execution_count": 8,
   "id": "6ef35964-4501-43b6-bea5-69095bb32264",
   "metadata": {},
   "outputs": [
    {
     "name": "stderr",
     "output_type": "stream",
     "text": [
      "/home/renyang/ruxing/.local/lib/python3.10/site-packages/pydantic/_internal/_fields.py:132: UserWarning: Field \"model_name\" in HuggingFaceInferenceAPIEmbeddings has conflict with protected namespace \"model_\".\n",
      "\n",
      "You may be able to resolve this warning by setting `model_config['protected_namespaces'] = ()`.\n",
      "  warnings.warn(\n"
     ]
    },
    {
     "name": "stdout",
     "output_type": "stream",
     "text": [
      "FAISS index loaded successfully!\n"
     ]
    }
   ],
   "source": [
    "embedding_model = HuggingFaceEmbeddings(model_name=\"sentence-transformers/all-mpnet-base-v2\")\n",
    "\n",
    "from langchain.vectorstores import FAISS\n",
    "from langchain_community.embeddings import HuggingFaceEmbeddings\n",
    "\n",
    "# Load the FAISS index\n",
    "vector_store = FAISS.load_local(\n",
    "    folder_path=\"faiss_legal_rag_index.index\",\n",
    "    embeddings=embedding_model,\n",
    "    allow_dangerous_deserialization=True  # Enable deserialization\n",
    ")\n",
    "\n",
    "print(\"FAISS index loaded successfully!\")"
   ]
  },
  {
   "cell_type": "code",
   "execution_count": 11,
   "id": "1f0e79f0-07cb-4866-a9db-fde4b62a3095",
   "metadata": {},
   "outputs": [],
   "source": [
    "def generate_text(prompt, tokenizer, model):\n",
    "    \"\"\"Generates text using LLaMA and removes the original prompt from the output.\"\"\"\n",
    "    inputs = tokenizer(prompt, return_tensors=\"pt\", truncation=True, max_length=2048).to(model.device)\n",
    "    with torch.no_grad():\n",
    "        outputs = model.generate(**inputs, max_new_tokens=512, temperature=0.7, top_p=0.9)\n",
    "    \n",
    "    full_response = tokenizer.decode(outputs[0], skip_special_tokens=True)\n",
    "    \n",
    "    # Remove the prompt part by extracting only the response text\n",
    "    response = full_response.split(\"**Example Output:**\")[-1].strip()\n",
    "    \n",
    "    return response"
   ]
  },
  {
   "cell_type": "code",
   "execution_count": 12,
   "id": "a2485c38-add7-4c3f-9f23-5482aa4dee09",
   "metadata": {
    "scrolled": true
   },
   "outputs": [],
   "source": [
    "from langchain.vectorstores import FAISS\n",
    "from langchain_community.embeddings import HuggingFaceEmbeddings\n",
    "from transformers import LlamaForCausalLM, LlamaTokenizer, pipeline\n",
    "from sentence_transformers import CrossEncoder\n",
    "import torch\n",
    "\n",
    "def load_llama_model(model_name=\"meta-llama/Llama-2-7b-chat-hf\"):\n",
    "    \"\"\"Load LLaMA 2 model and tokenizer.\"\"\"\n",
    "    tokenizer = LlamaTokenizer.from_pretrained(model_name)\n",
    "    model = LlamaForCausalLM.from_pretrained(\n",
    "        model_name,\n",
    "        torch_dtype=torch.float16,\n",
    "        device_map=\"auto\"\n",
    "    )\n",
    "    return tokenizer, model\n",
    "\n",
    "\n",
    "def rerank_documents(query, retrieved_docs, reranker_model):\n",
    "    \"\"\"Reranks documents using a cross-encoder model.\"\"\"\n",
    "    query_doc_pairs = [(query, doc.page_content) for doc in retrieved_docs]\n",
    "    scores = reranker_model.predict(query_doc_pairs)\n",
    "\n",
    "    # Sort documents by score (descending)\n",
    "    ranked_results = sorted(zip(retrieved_docs, scores), key=lambda x: x[1], reverse=True)\n",
    "    \n",
    "    # Return top 3 reranked results\n",
    "    return [doc for doc, score in ranked_results[:3]]\n",
    "\n",
    "def rag_pipeline(query, vector_store, tokenizer, model, reranker_model):\n",
    "    \"\"\"End-to-end RAG pipeline: Retrieve, Rerank, and Generate with LLaMA.\"\"\"\n",
    "    \n",
    "    # Retrieve Top-10 Documents from FAISS\n",
    "    retrieved_docs = vector_store.similarity_search(query, k=10)\n",
    "\n",
    "    # Apply Cross-Encoder Reranking\n",
    "    top_results = rerank_documents(query, retrieved_docs, reranker_model)\n",
    "\n",
    "    # Extract text from top reranked documents\n",
    "    retrieved_texts = \"\\n\\n\".join([result.page_content for result in top_results])\n",
    "\n",
    "    # Format Prompt for LLaMA\n",
    "    prompt = f\"\"\"\n",
    "    You are an AI legal assistant specializing in case law research. \n",
    "    Your task is to analyze relevant legal precedents and find cases similar to the given query.\n",
    "    \n",
    "    **User Query:** \"{query}\"\n",
    "    \n",
    "    **Relevant Legal Opinions Retrieved:**\n",
    "    {retrieved_texts}\n",
    "    \n",
    "    **Instructions:**\n",
    "    - Identify and summarize key legal principles from the retrieved cases.\n",
    "    - Compare the retrieved cases to the query, highlighting similarities in legal reasoning, facts, and rulings.\n",
    "    - If applicable, note any cases that set contrasting precedents.\n",
    "    - Use formal legal language and avoid speculative responses.\n",
    "    - If no highly relevant cases are found, explicitly state that and suggest alternative approaches.\n",
    "    \n",
    "    **Output Format:**\n",
    "    1. Similar Cases Identified:\n",
    "       - Case Name: [Case Title]\n",
    "       - Summary: [Brief summary of case facts and ruling]\n",
    "       - Similarity to Query: [Explain why it's relevant]\n",
    "       \n",
    "    2. Key Legal Principles:\n",
    "       - Principle 1: [Description]\n",
    "       - Principle 2: [Description]\n",
    "       \n",
    "    3. Contrasting Precedents (if any):\n",
    "       - Case Name: [Case Title]\n",
    "       - Key Difference: [Explain how it differs]\n",
    "    \n",
    "    4. Conclusion: [Final summary]\n",
    "    \"\"\"\n",
    "\n",
    "    # Generate Response using LLaMA\n",
    "    generated_text = generate_text(prompt, tokenizer, model)\n",
    "    \n",
    "    return generated_text\n",
    "\n",
    "\n"
   ]
  },
  {
   "cell_type": "code",
   "execution_count": 51,
   "id": "3ab8755b-cf82-4edd-a84e-80b39801e350",
   "metadata": {},
   "outputs": [],
   "source": [
    "import torch\n",
    "torch.cuda.empty_cache()"
   ]
  },
  {
   "cell_type": "code",
   "execution_count": 9,
   "id": "ae3cdba1-45a6-4eef-9a62-a76623f335df",
   "metadata": {},
   "outputs": [
    {
     "name": "stderr",
     "output_type": "stream",
     "text": [
      "/home/renyang/ruxing/.local/lib/python3.10/site-packages/accelerate/utils/modeling.py:1462: UserWarning: Current model requires 4224 bytes of buffer for offloaded layers, which seems does not fit any GPU's remaining memory. If you are experiencing a OOM later, please consider using offload_buffers=True.\n",
      "  warnings.warn(\n"
     ]
    },
    {
     "data": {
      "application/vnd.jupyter.widget-view+json": {
       "model_id": "71951329253b4107ba81e28ceba09e7a",
       "version_major": 2,
       "version_minor": 0
      },
      "text/plain": [
       "Loading checkpoint shards:   0%|          | 0/2 [00:00<?, ?it/s]"
      ]
     },
     "metadata": {},
     "output_type": "display_data"
    }
   ],
   "source": [
    "# Load LLaMA model & tokenizer\n",
    "tokenizer, model = load_llama_model()"
   ]
  },
  {
   "cell_type": "code",
   "execution_count": 8,
   "id": "25a1bce6-1dfb-43af-9a14-a3dd079e4e30",
   "metadata": {},
   "outputs": [],
   "source": [
    "# Load reranker model\n",
    "reranker_model = CrossEncoder(\"cross-encoder/ms-marco-MiniLM-L-6-v2\")\n",
    "# reranker_model = CrossEncoder(\"cross-encoder/ms-marco-MiniLM-L-6-v2\", device=\"cpu\")"
   ]
  },
  {
   "cell_type": "code",
   "execution_count": null,
   "id": "ad5f38c7-91b2-4fb2-8472-5e6756ae3215",
   "metadata": {},
   "outputs": [],
   "source": []
  },
  {
   "cell_type": "code",
   "execution_count": null,
   "id": "a02fb574-2099-4b1d-b7b5-05da2158abfc",
   "metadata": {},
   "outputs": [],
   "source": []
  },
  {
   "cell_type": "code",
   "execution_count": 14,
   "id": "278b31ff-6a46-4663-9ca1-959040e91c7b",
   "metadata": {},
   "outputs": [],
   "source": [
    "query = \"Find cases similar to Miranda v. Arizona, 384 U.S. 436 (1966).\"\n",
    "rag_response = rag_pipeline(query, vector_store, tokenizer, model, reranker_model)\n",
    "print(\"\\nGenerated Response:\")\n",
    "print(rag_response)"
   ]
  },
  {
   "cell_type": "code",
   "execution_count": 104,
   "id": "0b991845-5bbc-49cd-9819-ddcdb75ff311",
   "metadata": {
    "scrolled": true
   },
   "outputs": [
    {
     "name": "stdout",
     "output_type": "stream",
     "text": [
      "Find cases similar to Miranda v. Arizona, 384 U.S. 436 (1966).\n",
      "The Supreme Court case Miranda v. Arizona, 384 U.S. 436 (1966), established the requirement that police must inform suspects of their rights before questioning them. Here are some similar cases:\n",
      "1. Dickerson v. United States, 508 U.S. 367 (1993): In this case, the Supreme Court held that the Miranda warning is required for all custodial interrogations, regardless of the presence of physical coercion or the duration of the interrogation.\n",
      "2. Maryland v. Shatzer, 559 U.S. 98 (2010): The Court ruled that the Miranda warning is not required for all interrogations, but only for those that occur during a custodial interrogation.\n",
      "3. Berghuis v. Thompkins, 560 U.S. 370 (2010): The Court held that a suspect's request for an attorney during interrogation does not automatically terminate the interrogation, but rather, the police may continue to question the suspect until they request an attorney.\n",
      "4. Michigan v. Lyons, 471 U.S. 1 (1985): The Court ruled that the Miranda warning is not required for all questioning, but only for questioning that occurs during a custodial interrogation.\n",
      "5. Rhode Island v. Innis, 440 U.S. 859 (1979): The Court held that the Miranda warning is required for all custodial interrogations, regardless of the presence of physical coercion or the duration of the interrogation.\n",
      "6. United States v. Patane, 508 U.S. 238 (1993): The Court ruled that the Miranda warning is required for all custodial interrogations, regardless of whether the suspect is aware of their rights or the purpose of the interrogation.\n",
      "7. Herring v. United States, 555 U.S. 135 (2009): The Court held that the Miranda warning is required for all custodial interrogations, regardless of whether the suspect is being questioned by a law enforcement officer or a private citizen.\n"
     ]
    }
   ],
   "source": [
    "query = \"Find cases similar to Miranda v. Arizona, 384 U.S. 436 (1966).\"\n",
    "llama_generated = generate_text(query, tokenizer, model)\n",
    "print(llama_generated)"
   ]
  },
  {
   "cell_type": "code",
   "execution_count": null,
   "id": "e077045f-3283-4826-a077-4293600e4e80",
   "metadata": {},
   "outputs": [],
   "source": []
  },
  {
   "cell_type": "code",
   "execution_count": null,
   "id": "29f413b2-a367-4e77-9d61-a6ab628360bb",
   "metadata": {},
   "outputs": [],
   "source": []
  },
  {
   "cell_type": "code",
   "execution_count": null,
   "id": "1c500179-cf63-4613-897e-f9d6ca959990",
   "metadata": {},
   "outputs": [],
   "source": []
  },
  {
   "cell_type": "code",
   "execution_count": null,
   "id": "546201dc-fc92-4b55-a431-2f38c0f23254",
   "metadata": {},
   "outputs": [],
   "source": [
    "query = \"Find decisions similar to Gideon v. Wainwright, 372 U.S. 335 (1963).\"\n",
    "llama_generated = generate_text(query, tokenizer, model)\n",
    "print(llama_generated)"
   ]
  },
  {
   "cell_type": "code",
   "execution_count": null,
   "id": "83bc31d6-450a-41a6-9360-0a985b10117a",
   "metadata": {},
   "outputs": [],
   "source": [
    "print(\"BERTScore:\", evaluate_bert_score(query, llama_generated))"
   ]
  },
  {
   "cell_type": "code",
   "execution_count": null,
   "id": "861f3ea0-ddb9-462c-bc31-6584f6e98c0f",
   "metadata": {},
   "outputs": [],
   "source": [
    "print(\"Cosine Similarity:\", evaluate_cosine_similarity(query, llama_generated))"
   ]
  },
  {
   "cell_type": "code",
   "execution_count": null,
   "id": "b9912a2c-6b6c-47b5-bab0-69330cd0dd2e",
   "metadata": {},
   "outputs": [],
   "source": [
    "query = \"Find decisions similar to Gideon v. Wainwright, 372 U.S. 335 (1963).\"\n",
    "rag_response = rag_pipeline(query, vector_store, tokenizer, model, reranker_model)\n",
    "print(\"\\nGenerated Response:\")\n",
    "print(rag_response)"
   ]
  },
  {
   "cell_type": "code",
   "execution_count": null,
   "id": "da54af0d-505c-4737-affe-6d296edcf082",
   "metadata": {},
   "outputs": [],
   "source": [
    "print(\"BERTScore:\", evaluate_bert_score(query, rag_response))"
   ]
  },
  {
   "cell_type": "code",
   "execution_count": null,
   "id": "db6cebf8-c369-401f-b335-922ba6c4d63a",
   "metadata": {},
   "outputs": [],
   "source": [
    "print(\"Cosine Similarity:\", evaluate_cosine_similarity(query, rag_response))"
   ]
  },
  {
   "cell_type": "code",
   "execution_count": null,
   "id": "8de683f2-4af9-4ec4-8e95-4c570c8a0fa3",
   "metadata": {},
   "outputs": [],
   "source": []
  },
  {
   "cell_type": "code",
   "execution_count": null,
   "id": "e70b9309-66ea-4e42-81d3-14246066fa76",
   "metadata": {},
   "outputs": [],
   "source": [
    "query = \"Retrieve cases discussing the same issues as Citizens United v. FEC, 558 U.S. 310 (2010).\"\n",
    "llama_generated = generate_text(query, tokenizer, model)\n",
    "print(llama_generated)"
   ]
  },
  {
   "cell_type": "code",
   "execution_count": null,
   "id": "cd88a9f1-d7d5-4d24-90f8-c961cd981ce6",
   "metadata": {},
   "outputs": [],
   "source": [
    "print(\"BERTScore:\", evaluate_bert_score(query, llama_generated))"
   ]
  },
  {
   "cell_type": "code",
   "execution_count": null,
   "id": "88239292-b15a-496a-9ddd-565b4b87a981",
   "metadata": {},
   "outputs": [],
   "source": [
    "print(\"Cosine Similarity:\", evaluate_cosine_similarity(query, llama_generated))"
   ]
  },
  {
   "cell_type": "code",
   "execution_count": null,
   "id": "ad34900d-f5bf-4ae7-9f71-f260c2d4e8f7",
   "metadata": {},
   "outputs": [],
   "source": [
    "query = \"Retrieve cases discussing the same issues as Citizens United v. FEC, 558 U.S. 310 (2010).\"\n",
    "rag_response = rag_pipeline(query, vector_store, tokenizer, model, reranker_model)\n",
    "print(\"\\nGenerated Response:\")\n",
    "print(rag_response)"
   ]
  },
  {
   "cell_type": "code",
   "execution_count": null,
   "id": "b98aa2bc-b88b-439a-a4d9-b3689a82c5a4",
   "metadata": {},
   "outputs": [],
   "source": [
    "print(\"BERTScore:\", evaluate_bert_score(query, rag_response))"
   ]
  },
  {
   "cell_type": "code",
   "execution_count": null,
   "id": "3db23a81-5927-413d-b2be-044c1f4e1696",
   "metadata": {},
   "outputs": [],
   "source": [
    "print(\"Cosine Similarity:\", evaluate_cosine_similarity(query, rag_response))"
   ]
  },
  {
   "cell_type": "code",
   "execution_count": null,
   "id": "8d063025-eeca-4141-a307-eb2529fb2aac",
   "metadata": {},
   "outputs": [],
   "source": []
  },
  {
   "cell_type": "code",
   "execution_count": null,
   "id": "47795c0a-e36c-417b-b3a9-1dc33b78d043",
   "metadata": {},
   "outputs": [],
   "source": [
    "query = \"Find opinions similar to New York Times Co. v. Sullivan, 376 U.S. 254 (1964).\"\n",
    "llama_generated = generate_text(query, tokenizer, model)\n",
    "print(llama_generated)"
   ]
  },
  {
   "cell_type": "code",
   "execution_count": null,
   "id": "b3b971ef-03cd-4aaa-a6f4-efde12a478c1",
   "metadata": {},
   "outputs": [],
   "source": [
    "print(\"BERTScore:\", evaluate_bert_score(query, llama_generated))"
   ]
  },
  {
   "cell_type": "code",
   "execution_count": null,
   "id": "1119c8dd-7e44-453a-afaa-1b7387c7f978",
   "metadata": {},
   "outputs": [],
   "source": [
    "print(\"Cosine Similarity:\", evaluate_cosine_similarity(query, llama_generated))"
   ]
  },
  {
   "cell_type": "code",
   "execution_count": null,
   "id": "3daec1ff-1a51-4eef-8e87-03c5873abe6c",
   "metadata": {},
   "outputs": [],
   "source": [
    "query = \"Find opinions similar to New York Times Co. v. Sullivan, 376 U.S. 254 (1964).\"\n",
    "rag_response = rag_pipeline(query, vector_store, tokenizer, model, reranker_model)\n",
    "print(\"\\nGenerated Response:\")\n",
    "print(rag_response)"
   ]
  },
  {
   "cell_type": "code",
   "execution_count": null,
   "id": "7dff60f9-ab02-4426-9113-2df34d9f8fb8",
   "metadata": {},
   "outputs": [],
   "source": [
    "print(\"BERTScore:\", evaluate_bert_score(query, rag_response))"
   ]
  },
  {
   "cell_type": "code",
   "execution_count": null,
   "id": "5b505a61-a54a-4d97-bc48-116d5ac6c811",
   "metadata": {},
   "outputs": [],
   "source": [
    "print(\"Cosine Similarity:\", evaluate_cosine_similarity(query, rag_response))"
   ]
  },
  {
   "cell_type": "code",
   "execution_count": null,
   "id": "23712f2d-7d92-496d-a5f4-99b40dd90dd0",
   "metadata": {},
   "outputs": [],
   "source": []
  },
  {
   "cell_type": "code",
   "execution_count": null,
   "id": "06070a9c-cdb6-4e35-af23-f4c9f7e2672f",
   "metadata": {},
   "outputs": [],
   "source": [
    "query = \"Locate cases that follow the precedent set by United States v. Lopez, 514 U.S. 549 (1995)\"\n",
    "llama_generated = generate_text(query, tokenizer, model)\n",
    "print(llama_generated)"
   ]
  },
  {
   "cell_type": "code",
   "execution_count": null,
   "id": "8bcd82f6-d28c-4d4f-b186-29177bfb998d",
   "metadata": {},
   "outputs": [],
   "source": [
    "print(\"BERTScore:\", evaluate_bert_score(query, llama_generated))"
   ]
  },
  {
   "cell_type": "code",
   "execution_count": null,
   "id": "747bf185-f65b-4cd7-b35a-38c5b85a2900",
   "metadata": {},
   "outputs": [],
   "source": [
    "print(\"Cosine Similarity:\", evaluate_cosine_similarity(query, llama_generated))"
   ]
  },
  {
   "cell_type": "code",
   "execution_count": null,
   "id": "30aaaa4a-1c23-4765-a6a8-06aef47f1524",
   "metadata": {},
   "outputs": [],
   "source": [
    "query = \"Locate cases that follow the precedent set by United States v. Lopez, 514 U.S. 549 (1995)\"\n",
    "rag_response = rag_pipeline(query, vector_store, tokenizer, model, reranker_model)\n",
    "print(\"\\nGenerated Response:\")\n",
    "print(rag_response)"
   ]
  },
  {
   "cell_type": "code",
   "execution_count": null,
   "id": "a800080c-4ce3-4d2c-af7f-9d03a0b02871",
   "metadata": {},
   "outputs": [],
   "source": [
    "print(\"BERTScore:\", evaluate_bert_score(query, rag_response))"
   ]
  },
  {
   "cell_type": "code",
   "execution_count": null,
   "id": "334f24c1-02ea-41cc-a474-096db652cd0c",
   "metadata": {},
   "outputs": [],
   "source": [
    "print(\"Cosine Similarity:\", evaluate_cosine_similarity(query, rag_response))"
   ]
  },
  {
   "cell_type": "markdown",
   "id": "3b47b2dc-65d0-4c18-ad2c-fa0c5e46aa7d",
   "metadata": {},
   "source": [
    "# Evaluation"
   ]
  },
  {
   "cell_type": "code",
   "execution_count": 55,
   "id": "f4096426-d9db-4f1b-b56e-8500d0b26f9c",
   "metadata": {},
   "outputs": [],
   "source": [
    "# !pip install bert-score"
   ]
  },
  {
   "cell_type": "code",
   "execution_count": 16,
   "id": "ed5c09ff-b4f1-4ddc-8942-f80a27e89571",
   "metadata": {},
   "outputs": [],
   "source": [
    "import numpy as np\n",
    "import pandas as pd\n",
    "from sentence_transformers import SentenceTransformer, util\n",
    "from bert_score import score as bert_score\n",
    "\n",
    "def evaluate_bert_score(query, generated):\n",
    "    P, R, F1 = bert_score([generated], [query], lang=\"en\")\n",
    "    return F1.mean().item()\n",
    "\n",
    "# def evaluate_cosine_similarity(query, generated):\n",
    "#     model = SentenceTransformer('all-MiniLM-L6-v2')\n",
    "#     # model = SentenceTransformer(\"all-mpnet-base-v2\")\n",
    "#     embeddings = model.encode([query, generated], convert_to_tensor=True)\n",
    "#     return util.pytorch_cos_sim(embeddings[0], embeddings[1]).item()\n"
   ]
  },
  {
   "cell_type": "code",
   "execution_count": 17,
   "id": "c3c1f8af-af4e-459d-8c7b-1dc9bb43f572",
   "metadata": {},
   "outputs": [],
   "source": [
    "from langchain.embeddings import HuggingFaceEmbeddings\n",
    "import torch\n",
    "from sentence_transformers.util import pytorch_cos_sim\n",
    "\n",
    "def evaluate_cosine_similarity(query, generated):\n",
    "    embedding_model = HuggingFaceEmbeddings(model_name=\"sentence-transformers/all-mpnet-base-v2\")\n",
    "    \n",
    "    # Generate embeddings\n",
    "    query_embedding = torch.tensor(embedding_model.embed_query(query))\n",
    "    generated_embedding = torch.tensor(embedding_model.embed_query(generated))\n",
    "    \n",
    "    # Compute cosine similarity\n",
    "    return pytorch_cos_sim(query_embedding, generated_embedding).item()\n"
   ]
  },
  {
   "cell_type": "code",
   "execution_count": 40,
   "id": "065a3c2b-4edb-4b8b-b752-77a35fcaece0",
   "metadata": {},
   "outputs": [],
   "source": [
    "def evaluate_bert_score(query, generated):\n",
    "    P, R, F1 = bert_score([generated], [query], lang=\"en\", device=\"cpu\")\n",
    "    return F1.mean().item()"
   ]
  },
  {
   "cell_type": "code",
   "execution_count": 35,
   "id": "e6ff210a-da2a-41a5-af54-93b3db3ad16f",
   "metadata": {},
   "outputs": [
    {
     "name": "stderr",
     "output_type": "stream",
     "text": [
      "Some weights of RobertaModel were not initialized from the model checkpoint at roberta-large and are newly initialized: ['roberta.pooler.dense.bias', 'roberta.pooler.dense.weight']\n",
      "You should probably TRAIN this model on a down-stream task to be able to use it for predictions and inference.\n"
     ]
    },
    {
     "name": "stdout",
     "output_type": "stream",
     "text": [
      "BERTScore: 0.8537312150001526\n"
     ]
    }
   ],
   "source": [
    "print(\"BERTScore:\", evaluate_bert_score(query, generated))\n"
   ]
  },
  {
   "cell_type": "code",
   "execution_count": null,
   "id": "193604a8-8140-4cb5-81ff-6512387364cd",
   "metadata": {},
   "outputs": [],
   "source": [
    "print(\"Cosine Similarity:\", evaluate_cosine_similarity(query, generated))\n",
    "# print(\"Hallucinated Cases:\", detect_hallucinations(generated, legal_cases_db))"
   ]
  },
  {
   "cell_type": "code",
   "execution_count": 101,
   "id": "b0c39268-2312-4306-a09d-c2b8bf99d993",
   "metadata": {},
   "outputs": [
    {
     "name": "stderr",
     "output_type": "stream",
     "text": [
      "Some weights of RobertaModel were not initialized from the model checkpoint at roberta-large and are newly initialized: ['roberta.pooler.dense.bias', 'roberta.pooler.dense.weight']\n",
      "You should probably TRAIN this model on a down-stream task to be able to use it for predictions and inference.\n"
     ]
    },
    {
     "name": "stdout",
     "output_type": "stream",
     "text": [
      "BERTScore: 0.8537313342094421\n"
     ]
    }
   ],
   "source": [
    "# For RAG\n",
    "print(\"BERTScore:\", evaluate_bert_score(query, generated))"
   ]
  },
  {
   "cell_type": "code",
   "execution_count": 90,
   "id": "d1169f28-e8f6-4f40-9be6-df387055f85c",
   "metadata": {},
   "outputs": [],
   "source": [
    "import torch\n",
    "torch.cuda.empty_cache()"
   ]
  },
  {
   "cell_type": "code",
   "execution_count": 93,
   "id": "caaf8d9e-f1a6-462a-9453-b168a1e1e9a6",
   "metadata": {},
   "outputs": [
    {
     "name": "stdout",
     "output_type": "stream",
     "text": [
      "539099648\n",
      "717225984\n"
     ]
    }
   ],
   "source": [
    "import torch\n",
    "print(torch.cuda.memory_allocated())  # Current memory usage\n",
    "print(torch.cuda.memory_reserved())   # Total memory reserved"
   ]
  },
  {
   "cell_type": "markdown",
   "id": "37652691-d127-4ec3-a4a8-0b7087f05b22",
   "metadata": {},
   "source": [
    "# Evaluation"
   ]
  },
  {
   "cell_type": "code",
   "execution_count": 27,
   "id": "e35f1689-4214-470e-961c-fbd847db9107",
   "metadata": {},
   "outputs": [],
   "source": [
    "# !pip install git+https://github.com/ZeroEntropy-AI/legalbenchrag.git\n",
    "# !pip install datasets transformers sentence-transformers evaluate"
   ]
  },
  {
   "cell_type": "code",
   "execution_count": 92,
   "id": "369b5609-6515-4eb7-ad55-667bd8e3a001",
   "metadata": {},
   "outputs": [],
   "source": [
    "import gc\n",
    "import torch\n",
    "\n",
    "gc.collect()  # Clears Python garbage collector (CPU memory)\n",
    "torch.cuda.empty_cache()  # Clears PyTorch GPU memory cache"
   ]
  },
  {
   "cell_type": "markdown",
   "id": "57c1b750-6123-421a-865e-b1f3819f6db1",
   "metadata": {
    "jp-MarkdownHeadingCollapsed": true
   },
   "source": [
    "# Evaluation (Deprecated)"
   ]
  },
  {
   "cell_type": "code",
   "execution_count": 20,
   "id": "4b9d8650-13fb-4b7c-afad-37543e6bcde5",
   "metadata": {},
   "outputs": [
    {
     "name": "stdout",
     "output_type": "stream",
     "text": [
      "Relevant Cases: []\n"
     ]
    }
   ],
   "source": [
    "import requests\n",
    "\n",
    "def get_relevant_cases(citation):\n",
    "    base_url = \"https://www.courtlistener.com/api/rest/v4/opinions/\"\n",
    "    response = requests.get(f\"{base_url}?citation={citation}\")\n",
    "    \n",
    "    if response.status_code == 200:\n",
    "        data = response.json()\n",
    "        if data[\"results\"]:\n",
    "            case = data[\"results\"][0]\n",
    "            relevant_cases = case.get(\"cites\", []) + case.get(\"cited_by\", []) \n",
    "            return relevant_cases\n",
    "        else:\n",
    "            return []\n",
    "    else:\n",
    "        print(\"Error fetching data\")\n",
    "        return []\n",
    "\n",
    "# Example: Find cases related to Miranda v. Arizona (384 U.S. 436)\n",
    "citation = \"384 U.S. 436\"\n",
    "relevant_cases = get_relevant_cases(citation)\n",
    "print(\"Relevant Cases:\", relevant_cases)"
   ]
  },
  {
   "cell_type": "code",
   "execution_count": 21,
   "id": "fcfcd90b-f52d-4da4-a993-763d6ec8aa58",
   "metadata": {},
   "outputs": [
    {
     "name": "stdout",
     "output_type": "stream",
     "text": [
      "Relevant Cases: []\n"
     ]
    }
   ],
   "source": [
    "citation = \"496 U.S. 498\"\n",
    "relevant_cases = get_relevant_cases(citation)\n",
    "print(\"Relevant Cases:\", relevant_cases)"
   ]
  },
  {
   "cell_type": "code",
   "execution_count": null,
   "id": "17b5a5cf-cb4e-4ee5-b503-2a9a0c669010",
   "metadata": {},
   "outputs": [],
   "source": []
  }
 ],
 "metadata": {
  "kernelspec": {
   "display_name": "Python 3 (ipykernel)",
   "language": "python",
   "name": "python3"
  },
  "language_info": {
   "codemirror_mode": {
    "name": "ipython",
    "version": 3
   },
   "file_extension": ".py",
   "mimetype": "text/x-python",
   "name": "python",
   "nbconvert_exporter": "python",
   "pygments_lexer": "ipython3",
   "version": "3.10.12"
  }
 },
 "nbformat": 4,
 "nbformat_minor": 5
}
